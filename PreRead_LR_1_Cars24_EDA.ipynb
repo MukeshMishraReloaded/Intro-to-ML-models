{
  "cells": [
    {
      "cell_type": "markdown",
      "metadata": {
        "id": "view-in-github",
        "colab_type": "text"
      },
      "source": [
        "<a href=\"https://colab.research.google.com/github/MukeshMishraReloaded/Intro-to-ML-models/blob/main/PreRead_LR_1_Cars24_EDA.ipynb\" target=\"_parent\"><img src=\"https://colab.research.google.com/assets/colab-badge.svg\" alt=\"Open In Colab\"/></a>"
      ]
    },
    {
      "cell_type": "markdown",
      "id": "82e20bd8",
      "metadata": {
        "id": "82e20bd8"
      },
      "source": [
        "\n",
        "### Business case Introduction\n",
        "\n",
        "**Cars24** is one of the leading used-car buying and selling platform in India.\n",
        "\n",
        "#### Current methodology to estimate the selling price has three major components\n",
        "1. Past records of the \"Selling Prices\" of the same _Make_ and _Model_\n",
        "2. Rule based calculations for the depreciation of the car\n",
        "2. Rule based calculation for condition of the vehicle\n",
        "\n",
        "As the **Pricing Data Scientist working at Cars24, you are given a task**\n",
        "\n",
        "### GOAL: To automate the process of estimating price of the used car\n",
        "\n"
      ]
    },
    {
      "cell_type": "markdown",
      "id": "954215a3",
      "metadata": {
        "id": "954215a3"
      },
      "source": [
        "## Exploratory Data Analysis"
      ]
    },
    {
      "cell_type": "code",
      "execution_count": null,
      "id": "5d64b17c",
      "metadata": {
        "id": "5d64b17c"
      },
      "outputs": [],
      "source": [
        "import numpy as np\n",
        "import pandas as pd\n",
        "import matplotlib.pyplot as plt\n",
        "import seaborn as sns"
      ]
    },
    {
      "cell_type": "code",
      "source": [
        "!gdown 15tIjPrstV2RnOMv2VSIKW7yW_M3KjyNa"
      ],
      "metadata": {
        "colab": {
          "base_uri": "https://localhost:8080/"
        },
        "id": "qM2lYVDC_Y-n",
        "outputId": "01632caf-a9b0-4469-bb58-bac5ad9388df"
      },
      "id": "qM2lYVDC_Y-n",
      "execution_count": null,
      "outputs": [
        {
          "output_type": "stream",
          "name": "stdout",
          "text": [
            "Downloading...\n",
            "From: https://drive.google.com/uc?id=15tIjPrstV2RnOMv2VSIKW7yW_M3KjyNa\n",
            "To: /content/cars24-car-price.csv\n",
            "\r  0% 0.00/1.79M [00:00<?, ?B/s]\r100% 1.79M/1.79M [00:00<00:00, 135MB/s]\n"
          ]
        }
      ]
    },
    {
      "cell_type": "markdown",
      "id": "3ec819f5",
      "metadata": {
        "id": "3ec819f5"
      },
      "source": [
        "### Overview"
      ]
    },
    {
      "cell_type": "code",
      "execution_count": null,
      "id": "b9d4a0c2",
      "metadata": {
        "id": "b9d4a0c2",
        "outputId": "15dfea23-8325-48ea-90c3-f1266860ba2c",
        "colab": {
          "base_uri": "https://localhost:8080/",
          "height": 206
        }
      },
      "outputs": [
        {
          "output_type": "execute_result",
          "data": {
            "text/plain": [
              "                                        full_name  selling_price    year  \\\n",
              "0                                 Maruti Alto Std           1.20  2012.0   \n",
              "1                          Hyundai Grand i10 Asta           5.50  2016.0   \n",
              "2                                Hyundai i20 Asta           2.15  2010.0   \n",
              "3                   Maruti Alto K10 2010-2014 VXI           2.26  2012.0   \n",
              "4  Ford Ecosport 2015-2021 1.5 TDCi Titanium BSIV           5.70  2015.0   \n",
              "\n",
              "  seller_type  km_driven fuel_type transmission_type  mileage  engine  \\\n",
              "0  Individual     120000    Petrol            Manual    19.70   796.0   \n",
              "1  Individual      20000    Petrol            Manual    18.90  1197.0   \n",
              "2  Individual      60000    Petrol            Manual    17.00  1197.0   \n",
              "3  Individual      37000    Petrol            Manual    20.92   998.0   \n",
              "4      Dealer      30000    Diesel            Manual    22.77  1498.0   \n",
              "\n",
              "   max_power  seats  \n",
              "0      46.30    5.0  \n",
              "1      82.00    5.0  \n",
              "2      80.00    5.0  \n",
              "3      67.10    5.0  \n",
              "4      98.59    5.0  "
            ],
            "text/html": [
              "\n",
              "  <div id=\"df-2a0f9b88-6d1d-4b61-bc20-492e0825b65c\">\n",
              "    <div class=\"colab-df-container\">\n",
              "      <div>\n",
              "<style scoped>\n",
              "    .dataframe tbody tr th:only-of-type {\n",
              "        vertical-align: middle;\n",
              "    }\n",
              "\n",
              "    .dataframe tbody tr th {\n",
              "        vertical-align: top;\n",
              "    }\n",
              "\n",
              "    .dataframe thead th {\n",
              "        text-align: right;\n",
              "    }\n",
              "</style>\n",
              "<table border=\"1\" class=\"dataframe\">\n",
              "  <thead>\n",
              "    <tr style=\"text-align: right;\">\n",
              "      <th></th>\n",
              "      <th>full_name</th>\n",
              "      <th>selling_price</th>\n",
              "      <th>year</th>\n",
              "      <th>seller_type</th>\n",
              "      <th>km_driven</th>\n",
              "      <th>fuel_type</th>\n",
              "      <th>transmission_type</th>\n",
              "      <th>mileage</th>\n",
              "      <th>engine</th>\n",
              "      <th>max_power</th>\n",
              "      <th>seats</th>\n",
              "    </tr>\n",
              "  </thead>\n",
              "  <tbody>\n",
              "    <tr>\n",
              "      <th>0</th>\n",
              "      <td>Maruti Alto Std</td>\n",
              "      <td>1.20</td>\n",
              "      <td>2012.0</td>\n",
              "      <td>Individual</td>\n",
              "      <td>120000</td>\n",
              "      <td>Petrol</td>\n",
              "      <td>Manual</td>\n",
              "      <td>19.70</td>\n",
              "      <td>796.0</td>\n",
              "      <td>46.30</td>\n",
              "      <td>5.0</td>\n",
              "    </tr>\n",
              "    <tr>\n",
              "      <th>1</th>\n",
              "      <td>Hyundai Grand i10 Asta</td>\n",
              "      <td>5.50</td>\n",
              "      <td>2016.0</td>\n",
              "      <td>Individual</td>\n",
              "      <td>20000</td>\n",
              "      <td>Petrol</td>\n",
              "      <td>Manual</td>\n",
              "      <td>18.90</td>\n",
              "      <td>1197.0</td>\n",
              "      <td>82.00</td>\n",
              "      <td>5.0</td>\n",
              "    </tr>\n",
              "    <tr>\n",
              "      <th>2</th>\n",
              "      <td>Hyundai i20 Asta</td>\n",
              "      <td>2.15</td>\n",
              "      <td>2010.0</td>\n",
              "      <td>Individual</td>\n",
              "      <td>60000</td>\n",
              "      <td>Petrol</td>\n",
              "      <td>Manual</td>\n",
              "      <td>17.00</td>\n",
              "      <td>1197.0</td>\n",
              "      <td>80.00</td>\n",
              "      <td>5.0</td>\n",
              "    </tr>\n",
              "    <tr>\n",
              "      <th>3</th>\n",
              "      <td>Maruti Alto K10 2010-2014 VXI</td>\n",
              "      <td>2.26</td>\n",
              "      <td>2012.0</td>\n",
              "      <td>Individual</td>\n",
              "      <td>37000</td>\n",
              "      <td>Petrol</td>\n",
              "      <td>Manual</td>\n",
              "      <td>20.92</td>\n",
              "      <td>998.0</td>\n",
              "      <td>67.10</td>\n",
              "      <td>5.0</td>\n",
              "    </tr>\n",
              "    <tr>\n",
              "      <th>4</th>\n",
              "      <td>Ford Ecosport 2015-2021 1.5 TDCi Titanium BSIV</td>\n",
              "      <td>5.70</td>\n",
              "      <td>2015.0</td>\n",
              "      <td>Dealer</td>\n",
              "      <td>30000</td>\n",
              "      <td>Diesel</td>\n",
              "      <td>Manual</td>\n",
              "      <td>22.77</td>\n",
              "      <td>1498.0</td>\n",
              "      <td>98.59</td>\n",
              "      <td>5.0</td>\n",
              "    </tr>\n",
              "  </tbody>\n",
              "</table>\n",
              "</div>\n",
              "      <button class=\"colab-df-convert\" onclick=\"convertToInteractive('df-2a0f9b88-6d1d-4b61-bc20-492e0825b65c')\"\n",
              "              title=\"Convert this dataframe to an interactive table.\"\n",
              "              style=\"display:none;\">\n",
              "        \n",
              "  <svg xmlns=\"http://www.w3.org/2000/svg\" height=\"24px\"viewBox=\"0 0 24 24\"\n",
              "       width=\"24px\">\n",
              "    <path d=\"M0 0h24v24H0V0z\" fill=\"none\"/>\n",
              "    <path d=\"M18.56 5.44l.94 2.06.94-2.06 2.06-.94-2.06-.94-.94-2.06-.94 2.06-2.06.94zm-11 1L8.5 8.5l.94-2.06 2.06-.94-2.06-.94L8.5 2.5l-.94 2.06-2.06.94zm10 10l.94 2.06.94-2.06 2.06-.94-2.06-.94-.94-2.06-.94 2.06-2.06.94z\"/><path d=\"M17.41 7.96l-1.37-1.37c-.4-.4-.92-.59-1.43-.59-.52 0-1.04.2-1.43.59L10.3 9.45l-7.72 7.72c-.78.78-.78 2.05 0 2.83L4 21.41c.39.39.9.59 1.41.59.51 0 1.02-.2 1.41-.59l7.78-7.78 2.81-2.81c.8-.78.8-2.07 0-2.86zM5.41 20L4 18.59l7.72-7.72 1.47 1.35L5.41 20z\"/>\n",
              "  </svg>\n",
              "      </button>\n",
              "      \n",
              "  <style>\n",
              "    .colab-df-container {\n",
              "      display:flex;\n",
              "      flex-wrap:wrap;\n",
              "      gap: 12px;\n",
              "    }\n",
              "\n",
              "    .colab-df-convert {\n",
              "      background-color: #E8F0FE;\n",
              "      border: none;\n",
              "      border-radius: 50%;\n",
              "      cursor: pointer;\n",
              "      display: none;\n",
              "      fill: #1967D2;\n",
              "      height: 32px;\n",
              "      padding: 0 0 0 0;\n",
              "      width: 32px;\n",
              "    }\n",
              "\n",
              "    .colab-df-convert:hover {\n",
              "      background-color: #E2EBFA;\n",
              "      box-shadow: 0px 1px 2px rgba(60, 64, 67, 0.3), 0px 1px 3px 1px rgba(60, 64, 67, 0.15);\n",
              "      fill: #174EA6;\n",
              "    }\n",
              "\n",
              "    [theme=dark] .colab-df-convert {\n",
              "      background-color: #3B4455;\n",
              "      fill: #D2E3FC;\n",
              "    }\n",
              "\n",
              "    [theme=dark] .colab-df-convert:hover {\n",
              "      background-color: #434B5C;\n",
              "      box-shadow: 0px 1px 3px 1px rgba(0, 0, 0, 0.15);\n",
              "      filter: drop-shadow(0px 1px 2px rgba(0, 0, 0, 0.3));\n",
              "      fill: #FFFFFF;\n",
              "    }\n",
              "  </style>\n",
              "\n",
              "      <script>\n",
              "        const buttonEl =\n",
              "          document.querySelector('#df-2a0f9b88-6d1d-4b61-bc20-492e0825b65c button.colab-df-convert');\n",
              "        buttonEl.style.display =\n",
              "          google.colab.kernel.accessAllowed ? 'block' : 'none';\n",
              "\n",
              "        async function convertToInteractive(key) {\n",
              "          const element = document.querySelector('#df-2a0f9b88-6d1d-4b61-bc20-492e0825b65c');\n",
              "          const dataTable =\n",
              "            await google.colab.kernel.invokeFunction('convertToInteractive',\n",
              "                                                     [key], {});\n",
              "          if (!dataTable) return;\n",
              "\n",
              "          const docLinkHtml = 'Like what you see? Visit the ' +\n",
              "            '<a target=\"_blank\" href=https://colab.research.google.com/notebooks/data_table.ipynb>data table notebook</a>'\n",
              "            + ' to learn more about interactive tables.';\n",
              "          element.innerHTML = '';\n",
              "          dataTable['output_type'] = 'display_data';\n",
              "          await google.colab.output.renderOutput(dataTable, element);\n",
              "          const docLink = document.createElement('div');\n",
              "          docLink.innerHTML = docLinkHtml;\n",
              "          element.appendChild(docLink);\n",
              "        }\n",
              "      </script>\n",
              "    </div>\n",
              "  </div>\n",
              "  "
            ]
          },
          "metadata": {},
          "execution_count": 5
        }
      ],
      "source": [
        "df = pd.read_csv(\"cars24-car-price.csv\")\n",
        "df.head()"
      ]
    },
    {
      "cell_type": "markdown",
      "id": "bda3ad2e",
      "metadata": {
        "id": "bda3ad2e"
      },
      "source": [
        "Notice that Variable ```full_name``` contains both ```Maker``` and ```Model``` information - need to extract make and model from full_name."
      ]
    },
    {
      "cell_type": "code",
      "execution_count": null,
      "id": "26aabe45",
      "metadata": {
        "id": "26aabe45",
        "outputId": "90216e85-6f3f-4839-da6a-ad0e1f71bc2c",
        "colab": {
          "base_uri": "https://localhost:8080/"
        }
      },
      "outputs": [
        {
          "output_type": "execute_result",
          "data": {
            "text/plain": [
              "(19980, 11)"
            ]
          },
          "metadata": {},
          "execution_count": 6
        }
      ],
      "source": [
        "df.shape"
      ]
    },
    {
      "cell_type": "code",
      "execution_count": null,
      "id": "d2a5005b",
      "metadata": {
        "id": "d2a5005b",
        "outputId": "da885d22-05a6-45a5-f6dd-6c4b29c409bc",
        "colab": {
          "base_uri": "https://localhost:8080/"
        }
      },
      "outputs": [
        {
          "output_type": "stream",
          "name": "stdout",
          "text": [
            "<class 'pandas.core.frame.DataFrame'>\n",
            "RangeIndex: 19980 entries, 0 to 19979\n",
            "Data columns (total 11 columns):\n",
            " #   Column             Non-Null Count  Dtype  \n",
            "---  ------             --------------  -----  \n",
            " 0   full_name          19980 non-null  object \n",
            " 1   selling_price      19980 non-null  float64\n",
            " 2   year               19980 non-null  float64\n",
            " 3   seller_type        19980 non-null  object \n",
            " 4   km_driven          19980 non-null  int64  \n",
            " 5   fuel_type          19980 non-null  object \n",
            " 6   transmission_type  19980 non-null  object \n",
            " 7   mileage            19980 non-null  float64\n",
            " 8   engine             19980 non-null  float64\n",
            " 9   max_power          19980 non-null  float64\n",
            " 10  seats              19980 non-null  float64\n",
            "dtypes: float64(6), int64(1), object(4)\n",
            "memory usage: 1.7+ MB\n"
          ]
        }
      ],
      "source": [
        "df.info();"
      ]
    },
    {
      "cell_type": "code",
      "execution_count": null,
      "id": "05f9b141",
      "metadata": {
        "id": "05f9b141",
        "outputId": "dd246935-0b72-4d0b-e17d-0bf64a5539a8",
        "colab": {
          "base_uri": "https://localhost:8080/",
          "height": 300
        }
      },
      "outputs": [
        {
          "output_type": "display_data",
          "data": {
            "text/plain": [
              "       selling_price          year     km_driven       mileage        engine  \\\n",
              "count   19980.000000  19980.000000  1.998000e+04  19980.000000  19980.000000   \n",
              "mean        7.392066   2014.525125  5.824488e+04     19.347219   1476.327401   \n",
              "std         9.103088      3.249185  5.172509e+04      4.620053    520.449398   \n",
              "min         0.250000   1991.000000  1.000000e+02      0.000000      0.000000   \n",
              "25%         3.400000   2013.000000  3.116425e+04     16.800000   1197.000000   \n",
              "50%         5.200000   2015.000000  5.200000e+04     19.160000   1248.000000   \n",
              "75%         7.850000   2017.000000  7.400000e+04     22.320000   1582.000000   \n",
              "max       395.000000   2021.000000  3.800000e+06    120.000000   6752.000000   \n",
              "\n",
              "          max_power         seats  \n",
              "count  19980.000000  19980.000000  \n",
              "mean      97.854443      5.317868  \n",
              "std       45.080670      0.835370  \n",
              "min        5.000000      2.000000  \n",
              "25%       73.900000      5.000000  \n",
              "50%       86.700000      5.000000  \n",
              "75%      112.000000      5.000000  \n",
              "max      626.000000     14.000000  "
            ],
            "text/html": [
              "\n",
              "  <div id=\"df-4717dc60-f446-4591-b5e6-9f5775925d05\">\n",
              "    <div class=\"colab-df-container\">\n",
              "      <div>\n",
              "<style scoped>\n",
              "    .dataframe tbody tr th:only-of-type {\n",
              "        vertical-align: middle;\n",
              "    }\n",
              "\n",
              "    .dataframe tbody tr th {\n",
              "        vertical-align: top;\n",
              "    }\n",
              "\n",
              "    .dataframe thead th {\n",
              "        text-align: right;\n",
              "    }\n",
              "</style>\n",
              "<table border=\"1\" class=\"dataframe\">\n",
              "  <thead>\n",
              "    <tr style=\"text-align: right;\">\n",
              "      <th></th>\n",
              "      <th>selling_price</th>\n",
              "      <th>year</th>\n",
              "      <th>km_driven</th>\n",
              "      <th>mileage</th>\n",
              "      <th>engine</th>\n",
              "      <th>max_power</th>\n",
              "      <th>seats</th>\n",
              "    </tr>\n",
              "  </thead>\n",
              "  <tbody>\n",
              "    <tr>\n",
              "      <th>count</th>\n",
              "      <td>19980.000000</td>\n",
              "      <td>19980.000000</td>\n",
              "      <td>1.998000e+04</td>\n",
              "      <td>19980.000000</td>\n",
              "      <td>19980.000000</td>\n",
              "      <td>19980.000000</td>\n",
              "      <td>19980.000000</td>\n",
              "    </tr>\n",
              "    <tr>\n",
              "      <th>mean</th>\n",
              "      <td>7.392066</td>\n",
              "      <td>2014.525125</td>\n",
              "      <td>5.824488e+04</td>\n",
              "      <td>19.347219</td>\n",
              "      <td>1476.327401</td>\n",
              "      <td>97.854443</td>\n",
              "      <td>5.317868</td>\n",
              "    </tr>\n",
              "    <tr>\n",
              "      <th>std</th>\n",
              "      <td>9.103088</td>\n",
              "      <td>3.249185</td>\n",
              "      <td>5.172509e+04</td>\n",
              "      <td>4.620053</td>\n",
              "      <td>520.449398</td>\n",
              "      <td>45.080670</td>\n",
              "      <td>0.835370</td>\n",
              "    </tr>\n",
              "    <tr>\n",
              "      <th>min</th>\n",
              "      <td>0.250000</td>\n",
              "      <td>1991.000000</td>\n",
              "      <td>1.000000e+02</td>\n",
              "      <td>0.000000</td>\n",
              "      <td>0.000000</td>\n",
              "      <td>5.000000</td>\n",
              "      <td>2.000000</td>\n",
              "    </tr>\n",
              "    <tr>\n",
              "      <th>25%</th>\n",
              "      <td>3.400000</td>\n",
              "      <td>2013.000000</td>\n",
              "      <td>3.116425e+04</td>\n",
              "      <td>16.800000</td>\n",
              "      <td>1197.000000</td>\n",
              "      <td>73.900000</td>\n",
              "      <td>5.000000</td>\n",
              "    </tr>\n",
              "    <tr>\n",
              "      <th>50%</th>\n",
              "      <td>5.200000</td>\n",
              "      <td>2015.000000</td>\n",
              "      <td>5.200000e+04</td>\n",
              "      <td>19.160000</td>\n",
              "      <td>1248.000000</td>\n",
              "      <td>86.700000</td>\n",
              "      <td>5.000000</td>\n",
              "    </tr>\n",
              "    <tr>\n",
              "      <th>75%</th>\n",
              "      <td>7.850000</td>\n",
              "      <td>2017.000000</td>\n",
              "      <td>7.400000e+04</td>\n",
              "      <td>22.320000</td>\n",
              "      <td>1582.000000</td>\n",
              "      <td>112.000000</td>\n",
              "      <td>5.000000</td>\n",
              "    </tr>\n",
              "    <tr>\n",
              "      <th>max</th>\n",
              "      <td>395.000000</td>\n",
              "      <td>2021.000000</td>\n",
              "      <td>3.800000e+06</td>\n",
              "      <td>120.000000</td>\n",
              "      <td>6752.000000</td>\n",
              "      <td>626.000000</td>\n",
              "      <td>14.000000</td>\n",
              "    </tr>\n",
              "  </tbody>\n",
              "</table>\n",
              "</div>\n",
              "      <button class=\"colab-df-convert\" onclick=\"convertToInteractive('df-4717dc60-f446-4591-b5e6-9f5775925d05')\"\n",
              "              title=\"Convert this dataframe to an interactive table.\"\n",
              "              style=\"display:none;\">\n",
              "        \n",
              "  <svg xmlns=\"http://www.w3.org/2000/svg\" height=\"24px\"viewBox=\"0 0 24 24\"\n",
              "       width=\"24px\">\n",
              "    <path d=\"M0 0h24v24H0V0z\" fill=\"none\"/>\n",
              "    <path d=\"M18.56 5.44l.94 2.06.94-2.06 2.06-.94-2.06-.94-.94-2.06-.94 2.06-2.06.94zm-11 1L8.5 8.5l.94-2.06 2.06-.94-2.06-.94L8.5 2.5l-.94 2.06-2.06.94zm10 10l.94 2.06.94-2.06 2.06-.94-2.06-.94-.94-2.06-.94 2.06-2.06.94z\"/><path d=\"M17.41 7.96l-1.37-1.37c-.4-.4-.92-.59-1.43-.59-.52 0-1.04.2-1.43.59L10.3 9.45l-7.72 7.72c-.78.78-.78 2.05 0 2.83L4 21.41c.39.39.9.59 1.41.59.51 0 1.02-.2 1.41-.59l7.78-7.78 2.81-2.81c.8-.78.8-2.07 0-2.86zM5.41 20L4 18.59l7.72-7.72 1.47 1.35L5.41 20z\"/>\n",
              "  </svg>\n",
              "      </button>\n",
              "      \n",
              "  <style>\n",
              "    .colab-df-container {\n",
              "      display:flex;\n",
              "      flex-wrap:wrap;\n",
              "      gap: 12px;\n",
              "    }\n",
              "\n",
              "    .colab-df-convert {\n",
              "      background-color: #E8F0FE;\n",
              "      border: none;\n",
              "      border-radius: 50%;\n",
              "      cursor: pointer;\n",
              "      display: none;\n",
              "      fill: #1967D2;\n",
              "      height: 32px;\n",
              "      padding: 0 0 0 0;\n",
              "      width: 32px;\n",
              "    }\n",
              "\n",
              "    .colab-df-convert:hover {\n",
              "      background-color: #E2EBFA;\n",
              "      box-shadow: 0px 1px 2px rgba(60, 64, 67, 0.3), 0px 1px 3px 1px rgba(60, 64, 67, 0.15);\n",
              "      fill: #174EA6;\n",
              "    }\n",
              "\n",
              "    [theme=dark] .colab-df-convert {\n",
              "      background-color: #3B4455;\n",
              "      fill: #D2E3FC;\n",
              "    }\n",
              "\n",
              "    [theme=dark] .colab-df-convert:hover {\n",
              "      background-color: #434B5C;\n",
              "      box-shadow: 0px 1px 3px 1px rgba(0, 0, 0, 0.15);\n",
              "      filter: drop-shadow(0px 1px 2px rgba(0, 0, 0, 0.3));\n",
              "      fill: #FFFFFF;\n",
              "    }\n",
              "  </style>\n",
              "\n",
              "      <script>\n",
              "        const buttonEl =\n",
              "          document.querySelector('#df-4717dc60-f446-4591-b5e6-9f5775925d05 button.colab-df-convert');\n",
              "        buttonEl.style.display =\n",
              "          google.colab.kernel.accessAllowed ? 'block' : 'none';\n",
              "\n",
              "        async function convertToInteractive(key) {\n",
              "          const element = document.querySelector('#df-4717dc60-f446-4591-b5e6-9f5775925d05');\n",
              "          const dataTable =\n",
              "            await google.colab.kernel.invokeFunction('convertToInteractive',\n",
              "                                                     [key], {});\n",
              "          if (!dataTable) return;\n",
              "\n",
              "          const docLinkHtml = 'Like what you see? Visit the ' +\n",
              "            '<a target=\"_blank\" href=https://colab.research.google.com/notebooks/data_table.ipynb>data table notebook</a>'\n",
              "            + ' to learn more about interactive tables.';\n",
              "          element.innerHTML = '';\n",
              "          dataTable['output_type'] = 'display_data';\n",
              "          await google.colab.output.renderOutput(dataTable, element);\n",
              "          const docLink = document.createElement('div');\n",
              "          docLink.innerHTML = docLinkHtml;\n",
              "          element.appendChild(docLink);\n",
              "        }\n",
              "      </script>\n",
              "    </div>\n",
              "  </div>\n",
              "  "
            ]
          },
          "metadata": {}
        }
      ],
      "source": [
        "display(df.describe())"
      ]
    },
    {
      "cell_type": "markdown",
      "id": "08698399",
      "metadata": {
        "id": "08698399"
      },
      "source": [
        "- `selling_price` ranges from [0.25, 395] - the values seem to be in lakhs.\n",
        "- `mileage` min is 0, max is 120 - need to check for outliers.\n",
        "- `engine` min is 0, max is 6752 - values appear to be in \"cc\" - need to check for outliers."
      ]
    },
    {
      "cell_type": "markdown",
      "id": "c39186af",
      "metadata": {
        "id": "c39186af"
      },
      "source": [
        "### Distributions\n",
        "\n",
        "Lets check the distributions of these features one by one"
      ]
    },
    {
      "cell_type": "code",
      "execution_count": null,
      "id": "c445a4cd",
      "metadata": {
        "id": "c445a4cd",
        "outputId": "c6abc627-61e9-41a6-8b6d-f0ce695c38d3",
        "colab": {
          "base_uri": "https://localhost:8080/",
          "height": 286
        }
      },
      "outputs": [
        {
          "output_type": "execute_result",
          "data": {
            "text/plain": [
              "<matplotlib.axes._subplots.AxesSubplot at 0x7f32acc74730>"
            ]
          },
          "metadata": {},
          "execution_count": 9
        },
        {
          "output_type": "display_data",
          "data": {
            "text/plain": [
              "<Figure size 432x288 with 1 Axes>"
            ],
            "image/png": "[encoded data removed]"
          },
          "metadata": {
            "needs_background": "light"
          }
        }
      ],
      "source": [
        "df['selling_price'].hist(bins=50)"
      ]
    },
    {
      "cell_type": "markdown",
      "source": [
        "Lets check the percntage of outliers. We are manually taking a call that price over a 100 (K) is an outlier by looking at the above plot"
      ],
      "metadata": {
        "id": "qkdPAVufNJYT"
      },
      "id": "qkdPAVufNJYT"
    },
    {
      "cell_type": "code",
      "execution_count": null,
      "id": "1cf0fc36",
      "metadata": {
        "id": "1cf0fc36",
        "outputId": "aae9a3f4-fb6d-45fc-cf59-eaa974284cfc",
        "colab": {
          "base_uri": "https://localhost:8080/"
        }
      },
      "outputs": [
        {
          "output_type": "execute_result",
          "data": {
            "text/plain": [
              "0.055055055055055056"
            ]
          },
          "metadata": {},
          "execution_count": 10
        }
      ],
      "source": [
        "(df.loc[df.selling_price > 100].shape[0] / df.shape[0]) * 100"
      ]
    },
    {
      "cell_type": "markdown",
      "source": [
        "Lets saturate selling price at **100**."
      ],
      "metadata": {
        "id": "8ZKF4jk4Qb-6"
      },
      "id": "8ZKF4jk4Qb-6"
    },
    {
      "cell_type": "code",
      "execution_count": null,
      "id": "ac0e1922",
      "metadata": {
        "id": "ac0e1922"
      },
      "outputs": [],
      "source": [
        "df.loc[df.selling_price > 100, 'selling_price'] = 100"
      ]
    },
    {
      "cell_type": "markdown",
      "id": "559facec",
      "metadata": {
        "id": "559facec"
      },
      "source": [
        "> **INTERACTION**\n",
        "> -  Can you think of an automated way of deciding this threshold 100 ? Seems like we made this decision arbitarily\n",
        "> - **Hint:** use quantiles"
      ]
    },
    {
      "cell_type": "markdown",
      "id": "50848eac",
      "metadata": {
        "id": "50848eac"
      },
      "source": [
        "### Outliers and Missing Values\n",
        "\n",
        "#### Q: Which plot(s) is/are suitable for outlier visualisation ?"
      ]
    },
    {
      "cell_type": "markdown",
      "source": [
        "Similarly lets plot a histogram for **mileage**"
      ],
      "metadata": {
        "id": "Q2HkA8q-Q5Nv"
      },
      "id": "Q2HkA8q-Q5Nv"
    },
    {
      "cell_type": "code",
      "execution_count": null,
      "id": "9137b73d",
      "metadata": {
        "id": "9137b73d",
        "outputId": "4fdec156-8e3c-43f5-ef5b-c20a6d9972ba",
        "colab": {
          "base_uri": "https://localhost:8080/",
          "height": 265
        }
      },
      "outputs": [
        {
          "output_type": "display_data",
          "data": {
            "text/plain": [
              "<Figure size 432x288 with 1 Axes>"
            ],
            "image/png": "[encoded data removed]"
          },
          "metadata": {
            "needs_background": "light"
          }
        }
      ],
      "source": [
        "df[\"mileage\"].hist(bins=50);"
      ]
    },
    {
      "cell_type": "markdown",
      "source": [
        "Another useful plot is called the 'density' plot. Which is also similar to histogram, but with a more *approximate* shape. It tries to fit a suitable distribution over the histogram and hence includes points that might not even be present in data at hand."
      ],
      "metadata": {
        "id": "2HyHfnFeRAmL"
      },
      "id": "2HyHfnFeRAmL"
    },
    {
      "cell_type": "code",
      "execution_count": null,
      "id": "1c0f8ef6",
      "metadata": {
        "id": "1c0f8ef6",
        "outputId": "53a4c871-12f6-4ba1-867e-3c87f5a08569",
        "colab": {
          "base_uri": "https://localhost:8080/",
          "height": 265
        }
      },
      "outputs": [
        {
          "output_type": "display_data",
          "data": {
            "text/plain": [
              "<Figure size 432x288 with 1 Axes>"
            ],
            "image/png": "[encoded data removed]"
          },
          "metadata": {
            "needs_background": "light"
          }
        }
      ],
      "source": [
        "df[\"mileage\"].plot.density();"
      ]
    },
    {
      "cell_type": "markdown",
      "id": "9a201e12",
      "metadata": {
        "id": "9a201e12"
      },
      "source": [
        "We observe a skewed plot with right tail to long. An interesting point here would be mileage > 40, because after that it looks like the values mught just be outliers."
      ]
    },
    {
      "cell_type": "markdown",
      "source": [
        "Above we saw that there was an unusual peak at **0**. Lets investigate further. Looking at points where mileage is less than 5"
      ],
      "metadata": {
        "id": "ZMc_3ljfRdab"
      },
      "id": "ZMc_3ljfRdab"
    },
    {
      "cell_type": "code",
      "execution_count": null,
      "id": "8770175b",
      "metadata": {
        "id": "8770175b",
        "outputId": "778f7373-b672-44aa-9adb-f741c7a26dd9",
        "colab": {
          "base_uri": "https://localhost:8080/"
        }
      },
      "outputs": [
        {
          "output_type": "execute_result",
          "data": {
            "text/plain": [
              "count    161.000000\n",
              "mean       0.024845\n",
              "std        0.315244\n",
              "min        0.000000\n",
              "25%        0.000000\n",
              "50%        0.000000\n",
              "75%        0.000000\n",
              "max        4.000000\n",
              "Name: mileage, dtype: float64"
            ]
          },
          "metadata": {},
          "execution_count": 14
        }
      ],
      "source": [
        "df[df[\"mileage\"]<=5].mileage.describe()"
      ]
    },
    {
      "cell_type": "markdown",
      "source": [
        "Looks like we just have a number of points with mileage 0. That does not make much sense as it cannot be a real value for car mileage. Investigating mileage=0 cases"
      ],
      "metadata": {
        "id": "ORwiWooXRter"
      },
      "id": "ORwiWooXRter"
    },
    {
      "cell_type": "code",
      "execution_count": null,
      "id": "cebf24d5",
      "metadata": {
        "id": "cebf24d5",
        "outputId": "e74485ee-fc03-47c1-f06e-59d0b25ac122",
        "colab": {
          "base_uri": "https://localhost:8080/"
        }
      },
      "outputs": [
        {
          "output_type": "execute_result",
          "data": {
            "text/plain": [
              "0.008008008008008008"
            ]
          },
          "metadata": {},
          "execution_count": 15
        }
      ],
      "source": [
        "df.loc[df.mileage == 0].shape[0] / df.shape[0] # 0.8 %"
      ]
    },
    {
      "cell_type": "code",
      "execution_count": null,
      "id": "95a9d68a",
      "metadata": {
        "id": "95a9d68a",
        "outputId": "b28570c9-de1f-4205-ee23-612d2af0b895",
        "colab": {
          "base_uri": "https://localhost:8080/"
        }
      },
      "outputs": [
        {
          "output_type": "execute_result",
          "data": {
            "text/plain": [
              "(160, 11)"
            ]
          },
          "metadata": {},
          "execution_count": 16
        }
      ],
      "source": [
        "df[df[\"mileage\"] == 0.0].shape"
      ]
    },
    {
      "cell_type": "markdown",
      "id": "00697c6e",
      "metadata": {
        "id": "00697c6e"
      },
      "source": [
        "Thats a very small number of points. We can safely impute, or drop these points later during pre-processing\n",
        "\n",
        "#### Are the top values errorneous?"
      ]
    },
    {
      "cell_type": "markdown",
      "source": [
        "Above we had also noticed that there was a significant point at mileage=40. After this there were only very few points and looked like outliers. Lets check them"
      ],
      "metadata": {
        "id": "6_LyBPdUSOhB"
      },
      "id": "6_LyBPdUSOhB"
    },
    {
      "cell_type": "code",
      "execution_count": null,
      "id": "086687cf",
      "metadata": {
        "id": "086687cf",
        "outputId": "55128d51-ae0b-427b-8cbf-ad611abf8a6e",
        "colab": {
          "base_uri": "https://localhost:8080/"
        }
      },
      "outputs": [
        {
          "output_type": "execute_result",
          "data": {
            "text/plain": [
              "count      4.0\n",
              "mean     117.5\n",
              "std        5.0\n",
              "min      110.0\n",
              "25%      117.5\n",
              "50%      120.0\n",
              "75%      120.0\n",
              "max      120.0\n",
              "Name: mileage, dtype: float64"
            ]
          },
          "metadata": {},
          "execution_count": 17
        }
      ],
      "source": [
        "df[df[\"mileage\"] > 40].mileage.describe()"
      ]
    },
    {
      "cell_type": "code",
      "execution_count": null,
      "id": "2fb01f54",
      "metadata": {
        "id": "2fb01f54",
        "outputId": "6e35bcd4-2375-4f9b-8dbf-2c91e0e0baa0",
        "colab": {
          "base_uri": "https://localhost:8080/",
          "height": 175
        }
      },
      "outputs": [
        {
          "output_type": "execute_result",
          "data": {
            "text/plain": [
              "                  full_name  selling_price    year seller_type  km_driven  \\\n",
              "11966   Mahindra e2oPlus P6           4.00  2018.0      Dealer      26000   \n",
              "15684       Mahindra e2o T2           3.60  2015.0      Dealer      42862   \n",
              "17782       Mahindra e2o T2           4.50  2015.0      Dealer      40000   \n",
              "18401  Mahindra e2o Premium           3.25  2013.0  Individual      50000   \n",
              "\n",
              "      fuel_type transmission_type  mileage       engine  max_power  seats  \n",
              "11966  Electric         Automatic    110.0  1476.327401       25.4    4.0  \n",
              "15684  Electric         Automatic    120.0     0.000000       25.5    5.0  \n",
              "17782  Electric         Automatic    120.0     0.000000       25.5    5.0  \n",
              "18401  Electric         Automatic    120.0     0.000000       25.5    5.0  "
            ],
            "text/html": [
              "\n",
              "  <div id=\"df-35d5939b-2161-4093-b90d-9514ef6949fe\">\n",
              "    <div class=\"colab-df-container\">\n",
              "      <div>\n",
              "<style scoped>\n",
              "    .dataframe tbody tr th:only-of-type {\n",
              "        vertical-align: middle;\n",
              "    }\n",
              "\n",
              "    .dataframe tbody tr th {\n",
              "        vertical-align: top;\n",
              "    }\n",
              "\n",
              "    .dataframe thead th {\n",
              "        text-align: right;\n",
              "    }\n",
              "</style>\n",
              "<table border=\"1\" class=\"dataframe\">\n",
              "  <thead>\n",
              "    <tr style=\"text-align: right;\">\n",
              "      <th></th>\n",
              "      <th>full_name</th>\n",
              "      <th>selling_price</th>\n",
              "      <th>year</th>\n",
              "      <th>seller_type</th>\n",
              "      <th>km_driven</th>\n",
              "      <th>fuel_type</th>\n",
              "      <th>transmission_type</th>\n",
              "      <th>mileage</th>\n",
              "      <th>engine</th>\n",
              "      <th>max_power</th>\n",
              "      <th>seats</th>\n",
              "    </tr>\n",
              "  </thead>\n",
              "  <tbody>\n",
              "    <tr>\n",
              "      <th>11966</th>\n",
              "      <td>Mahindra e2oPlus P6</td>\n",
              "      <td>4.00</td>\n",
              "      <td>2018.0</td>\n",
              "      <td>Dealer</td>\n",
              "      <td>26000</td>\n",
              "      <td>Electric</td>\n",
              "      <td>Automatic</td>\n",
              "      <td>110.0</td>\n",
              "      <td>1476.327401</td>\n",
              "      <td>25.4</td>\n",
              "      <td>4.0</td>\n",
              "    </tr>\n",
              "    <tr>\n",
              "      <th>15684</th>\n",
              "      <td>Mahindra e2o T2</td>\n",
              "      <td>3.60</td>\n",
              "      <td>2015.0</td>\n",
              "      <td>Dealer</td>\n",
              "      <td>42862</td>\n",
              "      <td>Electric</td>\n",
              "      <td>Automatic</td>\n",
              "      <td>120.0</td>\n",
              "      <td>0.000000</td>\n",
              "      <td>25.5</td>\n",
              "      <td>5.0</td>\n",
              "    </tr>\n",
              "    <tr>\n",
              "      <th>17782</th>\n",
              "      <td>Mahindra e2o T2</td>\n",
              "      <td>4.50</td>\n",
              "      <td>2015.0</td>\n",
              "      <td>Dealer</td>\n",
              "      <td>40000</td>\n",
              "      <td>Electric</td>\n",
              "      <td>Automatic</td>\n",
              "      <td>120.0</td>\n",
              "      <td>0.000000</td>\n",
              "      <td>25.5</td>\n",
              "      <td>5.0</td>\n",
              "    </tr>\n",
              "    <tr>\n",
              "      <th>18401</th>\n",
              "      <td>Mahindra e2o Premium</td>\n",
              "      <td>3.25</td>\n",
              "      <td>2013.0</td>\n",
              "      <td>Individual</td>\n",
              "      <td>50000</td>\n",
              "      <td>Electric</td>\n",
              "      <td>Automatic</td>\n",
              "      <td>120.0</td>\n",
              "      <td>0.000000</td>\n",
              "      <td>25.5</td>\n",
              "      <td>5.0</td>\n",
              "    </tr>\n",
              "  </tbody>\n",
              "</table>\n",
              "</div>\n",
              "      <button class=\"colab-df-convert\" onclick=\"convertToInteractive('df-35d5939b-2161-4093-b90d-9514ef6949fe')\"\n",
              "              title=\"Convert this dataframe to an interactive table.\"\n",
              "              style=\"display:none;\">\n",
              "        \n",
              "  <svg xmlns=\"http://www.w3.org/2000/svg\" height=\"24px\"viewBox=\"0 0 24 24\"\n",
              "       width=\"24px\">\n",
              "    <path d=\"M0 0h24v24H0V0z\" fill=\"none\"/>\n",
              "    <path d=\"M18.56 5.44l.94 2.06.94-2.06 2.06-.94-2.06-.94-.94-2.06-.94 2.06-2.06.94zm-11 1L8.5 8.5l.94-2.06 2.06-.94-2.06-.94L8.5 2.5l-.94 2.06-2.06.94zm10 10l.94 2.06.94-2.06 2.06-.94-2.06-.94-.94-2.06-.94 2.06-2.06.94z\"/><path d=\"M17.41 7.96l-1.37-1.37c-.4-.4-.92-.59-1.43-.59-.52 0-1.04.2-1.43.59L10.3 9.45l-7.72 7.72c-.78.78-.78 2.05 0 2.83L4 21.41c.39.39.9.59 1.41.59.51 0 1.02-.2 1.41-.59l7.78-7.78 2.81-2.81c.8-.78.8-2.07 0-2.86zM5.41 20L4 18.59l7.72-7.72 1.47 1.35L5.41 20z\"/>\n",
              "  </svg>\n",
              "      </button>\n",
              "      \n",
              "  <style>\n",
              "    .colab-df-container {\n",
              "      display:flex;\n",
              "      flex-wrap:wrap;\n",
              "      gap: 12px;\n",
              "    }\n",
              "\n",
              "    .colab-df-convert {\n",
              "      background-color: #E8F0FE;\n",
              "      border: none;\n",
              "      border-radius: 50%;\n",
              "      cursor: pointer;\n",
              "      display: none;\n",
              "      fill: #1967D2;\n",
              "      height: 32px;\n",
              "      padding: 0 0 0 0;\n",
              "      width: 32px;\n",
              "    }\n",
              "\n",
              "    .colab-df-convert:hover {\n",
              "      background-color: #E2EBFA;\n",
              "      box-shadow: 0px 1px 2px rgba(60, 64, 67, 0.3), 0px 1px 3px 1px rgba(60, 64, 67, 0.15);\n",
              "      fill: #174EA6;\n",
              "    }\n",
              "\n",
              "    [theme=dark] .colab-df-convert {\n",
              "      background-color: #3B4455;\n",
              "      fill: #D2E3FC;\n",
              "    }\n",
              "\n",
              "    [theme=dark] .colab-df-convert:hover {\n",
              "      background-color: #434B5C;\n",
              "      box-shadow: 0px 1px 3px 1px rgba(0, 0, 0, 0.15);\n",
              "      filter: drop-shadow(0px 1px 2px rgba(0, 0, 0, 0.3));\n",
              "      fill: #FFFFFF;\n",
              "    }\n",
              "  </style>\n",
              "\n",
              "      <script>\n",
              "        const buttonEl =\n",
              "          document.querySelector('#df-35d5939b-2161-4093-b90d-9514ef6949fe button.colab-df-convert');\n",
              "        buttonEl.style.display =\n",
              "          google.colab.kernel.accessAllowed ? 'block' : 'none';\n",
              "\n",
              "        async function convertToInteractive(key) {\n",
              "          const element = document.querySelector('#df-35d5939b-2161-4093-b90d-9514ef6949fe');\n",
              "          const dataTable =\n",
              "            await google.colab.kernel.invokeFunction('convertToInteractive',\n",
              "                                                     [key], {});\n",
              "          if (!dataTable) return;\n",
              "\n",
              "          const docLinkHtml = 'Like what you see? Visit the ' +\n",
              "            '<a target=\"_blank\" href=https://colab.research.google.com/notebooks/data_table.ipynb>data table notebook</a>'\n",
              "            + ' to learn more about interactive tables.';\n",
              "          element.innerHTML = '';\n",
              "          dataTable['output_type'] = 'display_data';\n",
              "          await google.colab.output.renderOutput(dataTable, element);\n",
              "          const docLink = document.createElement('div');\n",
              "          docLink.innerHTML = docLinkHtml;\n",
              "          element.appendChild(docLink);\n",
              "        }\n",
              "      </script>\n",
              "    </div>\n",
              "  </div>\n",
              "  "
            ]
          },
          "metadata": {},
          "execution_count": 18
        }
      ],
      "source": [
        "df[df[\"mileage\"] > 40]"
      ]
    },
    {
      "cell_type": "code",
      "execution_count": null,
      "id": "ebdd8056",
      "metadata": {
        "id": "ebdd8056",
        "outputId": "c636a80b-3c61-4fe3-c083-a32ffb0a2b2f",
        "colab": {
          "base_uri": "https://localhost:8080/"
        }
      },
      "outputs": [
        {
          "output_type": "execute_result",
          "data": {
            "text/plain": [
              "Electric    4\n",
              "Name: fuel_type, dtype: int64"
            ]
          },
          "metadata": {},
          "execution_count": 19
        }
      ],
      "source": [
        "df[df[\"mileage\"] > 40].fuel_type.value_counts()"
      ]
    },
    {
      "cell_type": "markdown",
      "id": "30d350ad",
      "metadata": {
        "id": "30d350ad"
      },
      "source": [
        "- So all vehicles with mileage > 40 are electric vehicles which makes sense.\n",
        "- So they are not incorrect (error) values.\n",
        "- Let us not remove these points for now"
      ]
    },
    {
      "cell_type": "markdown",
      "id": "898bd0a0",
      "metadata": {
        "id": "898bd0a0"
      },
      "source": [
        "### Correlations"
      ]
    },
    {
      "cell_type": "markdown",
      "source": [
        "Now lets look at the correlations of numerical features with each other"
      ],
      "metadata": {
        "id": "pp_p6cp0SgaO"
      },
      "id": "pp_p6cp0SgaO"
    },
    {
      "cell_type": "code",
      "execution_count": null,
      "id": "e1f3bfe0",
      "metadata": {
        "id": "e1f3bfe0"
      },
      "outputs": [],
      "source": [
        "plt.figure(figsize=(10,8))\n",
        "ax = sns.heatmap(df.corr(), cmap=\"YlGnBu\", annot=True)"
      ]
    },
    {
      "cell_type": "markdown",
      "source": [
        "We see the following correlations:\n",
        "- Engine and max-power\n",
        "- Max power and selling price\n",
        "Now based on our **domain knowledge** (about cars) we can digest these correlations. In this case, these correlations seem to make a lot of sense\n",
        "\n",
        "\n",
        "Another visualisation we can check, is the scatter plot of each feature with the target. This can be easily done using pairplot from seaborn library"
      ],
      "metadata": {
        "id": "gv2UD2K_Sq62"
      },
      "id": "gv2UD2K_Sq62"
    },
    {
      "cell_type": "code",
      "execution_count": null,
      "id": "cdd13238",
      "metadata": {
        "id": "cdd13238"
      },
      "outputs": [],
      "source": [
        "sns.pairplot(df, y_vars=[\"selling_price\"]);"
      ]
    },
    {
      "cell_type": "code",
      "execution_count": null,
      "id": "51924620",
      "metadata": {
        "id": "51924620"
      },
      "outputs": [],
      "source": [
        "df['seats'].value_counts(normalize=True)"
      ]
    },
    {
      "cell_type": "markdown",
      "id": "57297951",
      "metadata": {
        "id": "57297951"
      },
      "source": [
        "### Categorical Variables"
      ]
    },
    {
      "cell_type": "markdown",
      "id": "f32cbc66",
      "metadata": {
        "id": "f32cbc66"
      },
      "source": [
        "#### How can we extract Make and Model from \"full_name\""
      ]
    },
    {
      "cell_type": "markdown",
      "source": [
        "We have noticed that the name contains the informaiton of the brand and the model. Lets extract those and create new features from them. After that we can drop the original column"
      ],
      "metadata": {
        "id": "7GuygB63TXOB"
      },
      "id": "7GuygB63TXOB"
    },
    {
      "cell_type": "code",
      "execution_count": null,
      "id": "0f048cc1",
      "metadata": {
        "id": "0f048cc1"
      },
      "outputs": [],
      "source": [
        "df[\"make\"] = df.full_name.apply(lambda x : x.split()[0])\n",
        "df[\"model\"] = df.full_name.apply(lambda x : \" \".join(x.split()[1:]))\n",
        "df = df.drop(\"full_name\", axis=1)\n",
        "df.head(2)"
      ]
    },
    {
      "cell_type": "markdown",
      "source": [
        "Now let us look at some categorical variables one by one"
      ],
      "metadata": {
        "id": "9P5Z8JSgTrP8"
      },
      "id": "9P5Z8JSgTrP8"
    },
    {
      "cell_type": "code",
      "execution_count": null,
      "id": "4b958059",
      "metadata": {
        "id": "4b958059"
      },
      "outputs": [],
      "source": [
        "display(df.describe(include=\"object\"))"
      ]
    },
    {
      "cell_type": "code",
      "source": [
        "df[\"fuel_type\"].value_counts()"
      ],
      "metadata": {
        "id": "uRpTtxKyT6Zo"
      },
      "id": "uRpTtxKyT6Zo",
      "execution_count": null,
      "outputs": []
    },
    {
      "cell_type": "code",
      "source": [
        "df[\"transmission_type\"].value_counts()"
      ],
      "metadata": {
        "id": "esoTkRa2T5ze"
      },
      "id": "esoTkRa2T5ze",
      "execution_count": null,
      "outputs": []
    },
    {
      "cell_type": "code",
      "execution_count": null,
      "id": "2e62c375",
      "metadata": {
        "id": "2e62c375"
      },
      "outputs": [],
      "source": [
        "df[\"seller_type\"].value_counts()"
      ]
    },
    {
      "cell_type": "markdown",
      "id": "b0a038df",
      "metadata": {
        "id": "b0a038df"
      },
      "source": [
        "#### Does selling price vary in some of these groups"
      ]
    },
    {
      "cell_type": "code",
      "execution_count": null,
      "id": "ad5ad59a",
      "metadata": {
        "id": "ad5ad59a"
      },
      "outputs": [],
      "source": [
        "df.loc[df.selling_price<=df.selling_price.quantile(0.9)].groupby('seller_type')['selling_price'].plot.density();\n",
        "plt.legend();"
      ]
    },
    {
      "cell_type": "markdown",
      "source": [
        "Looks like for different seller type, the selling price distrubution is not very different. Hence one intuition that can be developed from this plot is that the **seller_type** variable will not turn out to be very important for the ML model. (We will check this later)"
      ],
      "metadata": {
        "id": "CCPK7tdzUICh"
      },
      "id": "CCPK7tdzUICh"
    },
    {
      "cell_type": "markdown",
      "id": "4ab2bd2c",
      "metadata": {
        "id": "4ab2bd2c"
      },
      "source": [
        "#### Lets check for all groups?\n",
        "\n",
        "Another way to visualise the same is to use a plot known as **box-plot**\n",
        "\n",
        "\n",
        "Note: Although, `seats` is numeric, but we will consider it as an ordinal variable and perform similar analysis as we do for other categorical variables."
      ]
    },
    {
      "cell_type": "code",
      "execution_count": null,
      "id": "a068256c",
      "metadata": {
        "id": "a068256c"
      },
      "outputs": [],
      "source": [
        "for col in ['seller_type', 'fuel_type', 'seats']:\n",
        "    plt.figure(figsize=(10,5))\n",
        "    sns.boxplot(y='selling_price',x=col, data=df)\n",
        "    plt.title('col vs selling_price')\n",
        "    plt.show()"
      ]
    },
    {
      "cell_type": "markdown",
      "id": "e080af97",
      "metadata": {
        "id": "e080af97"
      },
      "source": [
        "#### How can we transform the scale of selling-price for better visualisation?"
      ]
    },
    {
      "cell_type": "code",
      "execution_count": null,
      "id": "39d500fc",
      "metadata": {
        "id": "39d500fc"
      },
      "outputs": [],
      "source": [
        "df[\"log_selling_price\"] = np.log(df[\"selling_price\"].values)\n",
        "\n",
        "for col in ['seller_type', 'fuel_type', 'seats']:\n",
        "    plt.figure(figsize=(10,5))\n",
        "    sns.boxplot(y='log_selling_price',x=col, data=df)\n",
        "    plt.title('col vs selling_price')\n",
        "    plt.show()"
      ]
    },
    {
      "cell_type": "markdown",
      "id": "938ff054",
      "metadata": {
        "id": "938ff054"
      },
      "source": [
        " - `selling_price` of \"coupe\" is quite variational - important to be kept for predictive modelling"
      ]
    },
    {
      "cell_type": "markdown",
      "id": "45b5a469",
      "metadata": {
        "id": "45b5a469"
      },
      "source": [
        "#### How many categories of \"make\" in the data?  "
      ]
    },
    {
      "cell_type": "code",
      "execution_count": null,
      "id": "437ace78",
      "metadata": {
        "id": "437ace78"
      },
      "outputs": [],
      "source": [
        "len(df[\"make\"].unique())"
      ]
    },
    {
      "cell_type": "markdown",
      "id": "19f90315",
      "metadata": {
        "id": "19f90315"
      },
      "source": [
        "There are 42 car brands in the data - too many levels, think of possible ways to encode them as numbers"
      ]
    },
    {
      "cell_type": "markdown",
      "id": "390e0023",
      "metadata": {
        "id": "390e0023"
      },
      "source": [
        "#### What are item counts for different \"make\"?"
      ]
    },
    {
      "cell_type": "code",
      "execution_count": null,
      "id": "f4f00f28",
      "metadata": {
        "id": "f4f00f28"
      },
      "outputs": [],
      "source": [
        "plt.figure(figsize=(15,5))\n",
        "sns.countplot(x='make', data=df, order = df['make'].value_counts().index)\n",
        "plt.xticks(rotation=90);\n",
        "plt.title(\"Make and no of items sold\")\n",
        "plt.show()"
      ]
    },
    {
      "cell_type": "markdown",
      "id": "445ff873",
      "metadata": {
        "id": "445ff873"
      },
      "source": [
        "#### How is \"make\" related to the selling price?"
      ]
    },
    {
      "cell_type": "code",
      "execution_count": null,
      "id": "6b254bad",
      "metadata": {
        "id": "6b254bad"
      },
      "outputs": [],
      "source": [
        "plt.figure(figsize=(15,5))\n",
        "sns.boxplot(y='log_selling_price',x='make', data=df, order = df['make'].value_counts().index)\n",
        "plt.xticks(rotation=90);\n",
        "plt.title(\"Selling Price for different make\")\n",
        "plt.show()"
      ]
    },
    {
      "cell_type": "markdown",
      "source": [
        "Lets drop this column for now"
      ],
      "metadata": {
        "id": "HTp-ssZsU3wW"
      },
      "id": "HTp-ssZsU3wW"
    },
    {
      "cell_type": "code",
      "execution_count": null,
      "id": "47695630",
      "metadata": {
        "id": "47695630"
      },
      "outputs": [],
      "source": [
        "df.drop(\"log_selling_price\", axis=1, inplace=True)"
      ]
    },
    {
      "cell_type": "markdown",
      "id": "89fb9b6a",
      "metadata": {
        "id": "89fb9b6a"
      },
      "source": [
        "\n",
        "> **How should we treat number of seats? Continuous OR Categorical ?**\n",
        "\n",
        "\n",
        "\n",
        "> Number of seats is a variable with a finite discrete set of values. However it is orderd. If we make it categorical, it would be fed into the model as unordered.\n",
        "\n",
        "> But we need to think do we want that order?\n",
        "\n",
        "> Example: 2 seater cars are most likely more expensive than other cars. So in this sense 2 > 5. We actually would benefit from discarding the order.\n"
      ]
    },
    {
      "cell_type": "markdown",
      "id": "adadca0c",
      "metadata": {
        "id": "adadca0c"
      },
      "source": [
        "---\n",
        "# Feature Engineering\n"
      ]
    },
    {
      "cell_type": "code",
      "execution_count": null,
      "id": "07197c4b",
      "metadata": {
        "id": "07197c4b"
      },
      "outputs": [],
      "source": [
        "df.head()"
      ]
    },
    {
      "cell_type": "markdown",
      "id": "fa96ba16",
      "metadata": {
        "id": "fa96ba16"
      },
      "source": [
        "### 1. Year\n",
        "\n",
        "Sometimes it is good practice to convert the features into the way we actually understand. This will not necessarily help the model, but helps in us in understanding / interpreting predictions little better\n",
        "\n",
        "- So lets convert year to more readable ***age***"
      ]
    },
    {
      "cell_type": "code",
      "execution_count": null,
      "id": "775b97cc",
      "metadata": {
        "id": "775b97cc"
      },
      "outputs": [],
      "source": [
        "current_year = 2020\n",
        "age = current_year - df['year']\n",
        "plt.scatter(age, df.selling_price)"
      ]
    },
    {
      "cell_type": "markdown",
      "id": "346e9a13",
      "metadata": {
        "id": "346e9a13"
      },
      "source": [
        "**Higher selling price for newer cars !!**"
      ]
    },
    {
      "cell_type": "markdown",
      "id": "fa722d37",
      "metadata": {
        "id": "fa722d37"
      },
      "source": [
        "### 2. Categorical Encoding\n",
        "\n",
        "#### Q: How do we encode categorical variables for modelling?\n",
        "\n",
        "#### 2.1 transmission_type (2 categories)"
      ]
    },
    {
      "cell_type": "code",
      "execution_count": null,
      "id": "0094aa5b",
      "metadata": {
        "id": "0094aa5b"
      },
      "outputs": [],
      "source": [
        "# explains how two category variable can be encoded as a binary variable\n",
        "transmission_dummy = pd.get_dummies(df[\"transmission_type\"])\n",
        "df = pd.concat([df, transmission_dummy], axis=1)\n",
        "df = df.drop([\"transmission_type\", \"Automatic\"], axis=1)\n",
        "df = df.rename(columns={\"Manual\": \"transmission_type\"})\n",
        "df.sample(frac=1).head(2)"
      ]
    },
    {
      "cell_type": "markdown",
      "id": "1dbb8f46",
      "metadata": {
        "id": "1dbb8f46"
      },
      "source": [
        "#### 2.2 fuel_type (5 categores)"
      ]
    },
    {
      "cell_type": "code",
      "execution_count": null,
      "id": "f1232344",
      "metadata": {
        "id": "f1232344"
      },
      "outputs": [],
      "source": [
        "fuel_type_dummy = pd.get_dummies(df[\"fuel_type\"], prefix=\"seats\")\n",
        "fuel_type_dummy.sample(frac=1).head(2)"
      ]
    },
    {
      "cell_type": "markdown",
      "id": "0677c9b9",
      "metadata": {
        "id": "0677c9b9"
      },
      "source": [
        "**NOTE:** We remove 1 of the dummy variables to avoid the dummy variable trap"
      ]
    },
    {
      "cell_type": "code",
      "execution_count": null,
      "id": "ef232228",
      "metadata": {
        "id": "ef232228"
      },
      "outputs": [],
      "source": [
        "fuel_type_dummy = fuel_type_dummy[fuel_type_dummy.columns[1:]]\n",
        "fuel_type_dummy.head(2)"
      ]
    },
    {
      "cell_type": "code",
      "execution_count": null,
      "id": "5ab6c20a",
      "metadata": {
        "id": "5ab6c20a"
      },
      "outputs": [],
      "source": [
        "pd.concat([df, fuel_type_dummy], axis=1).sample(frac=1).head(2)"
      ]
    },
    {
      "cell_type": "markdown",
      "id": "ed38308d",
      "metadata": {
        "id": "ed38308d"
      },
      "source": [
        "#### 2.3 make (too many categoies)"
      ]
    },
    {
      "cell_type": "code",
      "execution_count": null,
      "id": "e5a1ec23",
      "metadata": {
        "id": "e5a1ec23"
      },
      "outputs": [],
      "source": [
        "df.make.nunique()"
      ]
    },
    {
      "cell_type": "markdown",
      "id": "ffa3b60e",
      "metadata": {
        "id": "ffa3b60e"
      },
      "source": [
        "> **INTERACTION**\n",
        "> - How to handle so many categories?\n",
        "> **Hint:** Here we have too many categories. We can merge categories as in 'seats' variable or we can try target encoding. Dummy encoding would make too many features with highly diluted information.\n",
        "\n",
        "Or we can try another technique known as **Target Encoding**"
      ]
    },
    {
      "cell_type": "code",
      "execution_count": null,
      "id": "2447a9ce",
      "metadata": {
        "id": "2447a9ce"
      },
      "outputs": [],
      "source": [
        "encoded_make = df.groupby('make')['selling_price'].transform('mean')"
      ]
    },
    {
      "cell_type": "code",
      "execution_count": null,
      "id": "e10ebeb6",
      "metadata": {
        "id": "e10ebeb6"
      },
      "outputs": [],
      "source": [
        "show_df = df[['make']].copy()\n",
        "show_df['encoded_make'] = encoded_make\n",
        "show_df = show_df.drop_duplicates()\n",
        "print(len(show_df))\n",
        "show_df.head()"
      ]
    },
    {
      "cell_type": "markdown",
      "id": "30b25ce2",
      "metadata": {
        "id": "30b25ce2"
      },
      "source": [
        "### 3. Scaling\n",
        "\n",
        "#### Q: Now, All these variables have different ranges. Does that work?"
      ]
    },
    {
      "cell_type": "code",
      "execution_count": null,
      "id": "628c31cd",
      "metadata": {
        "id": "628c31cd"
      },
      "outputs": [],
      "source": [
        "df.describe()"
      ]
    },
    {
      "cell_type": "markdown",
      "source": [
        "Lets scale this data. We will use MinMaxScaler here (in practice you can choose your scaling techniques depending on the problem, or just try all and see what works best)"
      ],
      "metadata": {
        "id": "wgzRew8dVgwQ"
      },
      "id": "wgzRew8dVgwQ"
    },
    {
      "cell_type": "code",
      "execution_count": null,
      "id": "60980898",
      "metadata": {
        "id": "60980898"
      },
      "outputs": [],
      "source": [
        "from sklearn.preprocessing import MinMaxScaler, StandardScaler\n",
        "\n",
        "scaler = MinMaxScaler()\n",
        "scaler.fit(df[['selling_price', 'km_driven', 'mileage']])\n",
        "scaled_values = scaler.transform(df[['selling_price', 'km_driven', 'mileage']])  # returns numpy.ndarray not df.\n",
        "scaled_df = pd.DataFrame(scaled_values, columns=['selling_price', 'km_driven', 'mileage'])\n",
        "scaled_df.head()"
      ]
    },
    {
      "cell_type": "code",
      "execution_count": null,
      "id": "79099970",
      "metadata": {
        "id": "79099970"
      },
      "outputs": [],
      "source": [
        "scaled_df.describe()"
      ]
    },
    {
      "cell_type": "markdown",
      "id": "95f5679f",
      "metadata": {
        "id": "95f5679f"
      },
      "source": [
        "---\n",
        "## Stichting it all together\n",
        "\n"
      ]
    },
    {
      "cell_type": "code",
      "execution_count": null,
      "id": "57918401",
      "metadata": {
        "id": "57918401"
      },
      "outputs": [],
      "source": [
        "def merge_seats(x):\n",
        "    if 2 <= x <= 4:\n",
        "        return '2-4'\n",
        "    elif x > 5:\n",
        "        return '>5'\n",
        "    else:\n",
        "        return '5'\n",
        "\n",
        "def preprocess(df):\n",
        "    df = df.loc[df.mileage != 0].copy()\n",
        "    outlier_theshold = df.selling_price.quantile(0.95)\n",
        "    df.loc[df.selling_price > outlier_theshold, 'selling_price'] = outlier_theshold\n",
        "    df['age'] = pd.to_datetime('now', utc=True).date().year - df['year']\n",
        "    df['full_name'] = df['full_name'].str.upper()\n",
        "    df['seats'] = df['seats'].apply(merge_seats)\n",
        "    df.drop(columns=['year'])\n",
        "    return df\n",
        "\n",
        "def feature_engineering(df):\n",
        "    df['make'] = df.full_name.apply(lambda x : x.split()[0])\n",
        "    df['model'] = df.full_name.apply(lambda x : \" \".join(x.split()[1:]))\n",
        "    one_hot_encode_cols = ['seller_type', 'fuel_type', 'transmission_type', 'seats']\n",
        "    for column in one_hot_encode_cols:\n",
        "        df = pd.concat([df, pd.get_dummies(df[column]).iloc[: , 1:]], axis=1)\n",
        "    df.drop(columns=one_hot_encode_cols + ['full_name'], inplace=True)\n",
        "    df['make'] = df.groupby('make')['selling_price'].transform('median')\n",
        "    df['model'] = df.groupby('model')['selling_price'].transform('median')\n",
        "    scaler = MinMaxScaler()\n",
        "    df = pd.DataFrame(scaler.fit_transform(df), columns=df.columns)\n",
        "    return df"
      ]
    },
    {
      "cell_type": "code",
      "execution_count": null,
      "id": "ec688e93",
      "metadata": {
        "id": "ec688e93"
      },
      "outputs": [],
      "source": [
        "df = pd.read_csv(\"cars24-car-price.csv\")\n",
        "df = preprocess(df)\n",
        "df = feature_engineering(df)\n",
        "df.head()"
      ]
    },
    {
      "cell_type": "code",
      "execution_count": null,
      "id": "f8169964",
      "metadata": {
        "id": "f8169964"
      },
      "outputs": [],
      "source": [
        "df.shape"
      ]
    },
    {
      "cell_type": "markdown",
      "id": "b1c28e24",
      "metadata": {
        "id": "b1c28e24"
      },
      "source": [
        "#### Correlations with all numeric features"
      ]
    },
    {
      "cell_type": "markdown",
      "source": [
        "And before we wrap up, lets just see correlations of all variables since now we have all usable information in numerical form"
      ],
      "metadata": {
        "id": "5pf7MKJQV4VT"
      },
      "id": "5pf7MKJQV4VT"
    },
    {
      "cell_type": "code",
      "execution_count": null,
      "id": "8d2b5ede",
      "metadata": {
        "id": "8d2b5ede"
      },
      "outputs": [],
      "source": [
        "plt.figure(figsize=(15, 15))\n",
        "sns.heatmap(df.corr(), cmap=\"YlGnBu\", annot=True)"
      ]
    },
    {
      "cell_type": "markdown",
      "id": "ee017f44",
      "metadata": {
        "id": "ee017f44"
      },
      "source": [
        "- `max_power`, `engine` and `transmission_type` are hightest correlated with `selling_price` in same order.\n",
        "- New encoded features are weak predictor, but they together would might make strong predictors."
      ]
    },
    {
      "cell_type": "markdown",
      "id": "e52c7eb5",
      "metadata": {
        "id": "e52c7eb5"
      },
      "source": [
        "---"
      ]
    }
  ],
  "metadata": {
    "kernelspec": {
      "display_name": "Python 3 (ipykernel)",
      "language": "python",
      "name": "python3"
    },
    "language_info": {
      "codemirror_mode": {
        "name": "ipython",
        "version": 3
      },
      "file_extension": ".py",
      "mimetype": "text/x-python",
      "name": "python",
      "nbconvert_exporter": "python",
      "pygments_lexer": "ipython3",
      "version": "3.9.7"
    },
    "colab": {
      "provenance": [],
      "include_colab_link": true
    }
  },
  "nbformat": 4,
  "nbformat_minor": 5
}