{
  "cells": [
    {
      "cell_type": "markdown",
      "metadata": {
        "id": "view-in-github",
        "colab_type": "text"
      },
      "source": [
        "<a href=\"https://colab.research.google.com/github/MukeshMishraReloaded/Intro-to-ML-models/blob/main/06_07_polyreg_biasvariance_regularisation.ipynb\" target=\"_parent\"><img src=\"https://colab.research.google.com/assets/colab-badge.svg\" alt=\"Open In Colab\"/></a>"
      ]
    },
    {
      "cell_type": "markdown",
      "metadata": {
        "id": "YYzPEyFJiEnz"
      },
      "source": [
        "## Content\n",
        "\n",
        "  - **Batch Gradient**\n",
        "    - Quiz 1,2\n",
        "    - Assessments Covered\n",
        "      - [Optimization Comparison](https://www.scaler.com/hire/test/problem/16190/)\n",
        "      - [Gradient or Normal](https://www.scaler.com/hire/test/problem/24446/)\n",
        "\n",
        "      - [Residual Interpretation](https://www.scaler.com/hire/test/problem/16183/)\n",
        "\n",
        "\n",
        "  - **SGD/MiniBatch**\n",
        "    - Understanding Mini-Batch GD\n",
        "    - Quiz 3,4,5,6\n",
        "\n",
        "    - Assessments Covered\n",
        "      - [Effect on parameters](https://www.scaler.com/hire/test/problem/17362/)\n",
        "      - [Regression variables](https://www.scaler.com/hire/test/problem/18059/)\n",
        "\n",
        "  - **MiniBatch Code- PostRead**\n",
        "\n",
        "  - **Polynomial Regression**\n",
        "    - Quiz 7,8,9,10\n",
        "    - Assessments Covered\n",
        "      - [Degree of polynomial and plots](https://www.scaler.com/hire/test/problem/24475/)\n",
        "\n",
        "  - **Polynomial Regression Code**\n",
        "    - Quiz 11\n",
        "\n",
        "  - **Underfit Overfit Tradeoff**\n",
        "    - Geometric Intuition\n",
        "     - Quiz 12\n",
        "    - Mathematical Intuition\n",
        "     - Quiz 13\n",
        "    - Relating with Bias Variance\n",
        "    - Quiz 14,15\n",
        "    - Assessments Covered\n",
        "      - [A trade off](https://www.scaler.com/hire/test/problem/16272/)\n",
        "      - [Overfitting and Underfitting](https://www.scaler.com/hire/test/problem/17331/)\n",
        "   - **Underfit Overfit Code**\n",
        "\n",
        "\n",
        "  - **Generalization and Occam's Razor**\n",
        "    - Quiz 16,17\n",
        "    - Assessments Covered\n",
        "      - [Generalization and Occam's Razor](https://www.scaler.com/hire/test/problem/24303/)\n",
        "      - [Disadvantages of Linear regression](https://www.scaler.com/hire/test/problem/16193/)\n",
        "\n",
        "  - **Generalization and Occam's Razor Code**\n",
        "  - Quiz 18\n",
        "  - **Regularization**\n",
        "    - Quiz 19-28\n",
        "\n",
        "  - **Regularization Code**\n",
        "\n",
        "\n",
        "\n",
        "- **Hyperparameters**\n",
        "  - Parameter vs Hyperparameter\n",
        "    - Quiz 1\n",
        "    - [Param vs hyperparam](https://www.scaler.com/hire/test/problem/60552/)\n",
        "  - Steps to choose hyperparameter\n",
        "  - Plot between lambda($λ$) and adj.R-squared($R^2$)\n",
        "    - Quiz 2\n",
        "    - [Optimal hyperparam](https://www.scaler.com/hire/test/problem/60554/)\n",
        "\n",
        "\n",
        "- **Cross Validation:**\n",
        "  - Definition and implementation\n",
        "    - Quiz 3\n",
        "    - [Cross val: Across the test](https://www.scaler.com/hire/test/problem/60555/)\n",
        "    - [Aim Set Tune](https://www.scaler.com/hire/test/problem/60556/)\n",
        "\n",
        "- **K-fold CV:**\n",
        "   - Problems with cross-val\n",
        "   - Definition and implementation\n",
        "    - Quiz 4\n",
        "    - Quiz 5\n",
        "    - [Raise and k-fold](https://www.scaler.com/hire/test/problem/60557/)\n",
        "    - [Impact of folds](https://www.scaler.com/hire/test/problem/60558/)\n",
        "    - [How many folds?](https://www.scaler.com/hire/test/problem/33103/)"
      ]
    },
    {
      "cell_type": "markdown",
      "metadata": {
        "id": "nI5xL07eiOj_"
      },
      "source": [
        "## **Batch Gradient** (Optional)"
      ]
    },
    {
      "cell_type": "markdown",
      "metadata": {
        "id": "T67XaCCIXyMf"
      },
      "source": [
        "## **Lets see if you remember GD properly**"
      ]
    },
    {
      "cell_type": "markdown",
      "metadata": {
        "id": "d2rgLaYsX1-7"
      },
      "source": [
        "**Quiz-1** (checking Knowledge)\n",
        "\n",
        "\n",
        "```\n",
        "In Gradient Descent, do we take the entire data when calculating gradients ?\n",
        "A) True\n",
        "B) False\n",
        "```\n",
        "\n",
        "**Correct Answer**\n",
        "\n",
        "A) True"
      ]
    },
    {
      "cell_type": "markdown",
      "metadata": {
        "id": "n_5-t7ked6DJ"
      },
      "source": [
        "**Quiz-2** (checking Knowledge)\n",
        "\n",
        "\n",
        "\n",
        "\n",
        "```\n",
        "Lets check your GD skills, which of the following is the correct MSE gradient ?\n",
        "\n",
        "A) $ \\frac{1}{n} \\sum_{i=1}^{n}(\\hat{y_i}-y_i)x_{ij}$\n",
        "\n",
        "B) $\\frac{2}{n} \\sum_{i=1}^{n}(\\hat{y_i}-y_i)x_{j}$\n",
        "\n",
        "C) $ \\frac{2}{n} \\sum_{i=1}^{n}(y_i- \\hat{y_i})x_{ij}$\n",
        "\n",
        "D) $\\frac{2}{n} \\sum_{i=1}^{n}(\\hat{y_i}-y_i)x_{ij}$\n",
        "\n",
        "\n",
        "```\n",
        "\n",
        "**Correct Answer**\n",
        "\n",
        "D) $\\frac{2}{n} \\sum_{i=1}^{n}(\\hat{y_i}-y_i)x_{ij}$"
      ]
    },
    {
      "cell_type": "markdown",
      "source": [
        "#### How did we compute gradient descent in Linear Regression ?\n",
        "\n"
      ],
      "metadata": {
        "id": "2Ay62NsckjQ3"
      }
    },
    {
      "cell_type": "markdown",
      "source": [
        "Recall when computing the gradient descent, the weights are updated as:\n"
      ],
      "metadata": {
        "id": "ABgi1-1SldeB"
      }
    },
    {
      "cell_type": "markdown",
      "source": [
        "\n",
        "\n",
        "<center><img src='https://drive.google.com/uc?id=1rca9XhObHCd_K0hkSdDkO_GnIgzUSbAk' width=800></center>\n",
        "\n"
      ],
      "metadata": {
        "id": "LDKg_bjxlOlM"
      }
    },
    {
      "cell_type": "markdown",
      "metadata": {
        "id": "f92sBkRN8PJH"
      },
      "source": [
        "\n",
        "\n",
        "#### What can be the potential problem while doing Gradient Descent ?\n",
        "\n",
        "\n",
        "\n"
      ]
    },
    {
      "cell_type": "markdown",
      "source": [
        "\n",
        "\n",
        "<center><img src='https://drive.google.com/uc?id=14Yb_YU732rt8FmcnBpSCij3EUafjvnZs' width=800></center>\n",
        "\n"
      ],
      "metadata": {
        "id": "vqCPi3PUmB-w"
      }
    },
    {
      "cell_type": "markdown",
      "source": [
        "\n",
        "\n",
        "<center><img src='https://drive.google.com/uc?id=1GWDtSNG2rpSQpuz64hHIWO2iRMPUrDwM' width=800></center>\n",
        "\n"
      ],
      "metadata": {
        "id": "z_OlAG7NmmwM"
      }
    },
    {
      "cell_type": "markdown",
      "metadata": {
        "id": "fStlJcceANoQ"
      },
      "source": [
        "##**SGD/Mini Batch**##\n"
      ]
    },
    {
      "cell_type": "markdown",
      "metadata": {
        "id": "unOqvL_S_75O"
      },
      "source": [
        "#### How to reduce the time taken by Batch Gradient ?\n",
        "\n",
        "\n",
        "\n",
        "\n",
        "\n"
      ]
    },
    {
      "cell_type": "markdown",
      "source": [
        "\n",
        "\n",
        "<center><img src='https://drive.google.com/uc?id=1uycpFD9PV4CMOO1HZMa5eOTH3Y067RFG' width=800></center>\n",
        "\n"
      ],
      "metadata": {
        "id": "WiIL-_1VoiWQ"
      }
    },
    {
      "cell_type": "markdown",
      "metadata": {
        "id": "sg1p8MIzBQ_N"
      },
      "source": [
        "\n",
        "#### What can be the possible values of Batch size ($k$) ?\n",
        "\n",
        "\n",
        "\n",
        "\n",
        "\n",
        "\n",
        "\n",
        "\n",
        "\n"
      ]
    },
    {
      "cell_type": "markdown",
      "source": [
        "\n",
        "\n",
        "<center><img src='https://drive.google.com/uc?id=1axENukUDq6FAK0GAXqWXiO6A4LQzLgNu' width=800></center>\n",
        "\n"
      ],
      "metadata": {
        "id": "10vS_6pUo_f6"
      }
    },
    {
      "cell_type": "markdown",
      "metadata": {
        "id": "Q9_v3GfhzBnX"
      },
      "source": [
        "**Quiz-3**\n",
        "\n",
        "```\n",
        "Suppose in a data of 100, there are 3 cases: k = 1, k=32, k =100. What GD it will be based on value of k ?\n",
        "\n",
        "A) MiniBatch, Batch, SGD\n",
        "B) Batch, MiniBatch, SGD\n",
        "C) SGD, MiniBatch, Batch\n",
        "D) SGD, Batch, MiniBatch\n",
        "\n",
        "```\n",
        "\n",
        "**Correct Answer**\n",
        "\n",
        "C) SGD, MiniBatch, Batch\n"
      ]
    },
    {
      "cell_type": "markdown",
      "metadata": {
        "id": "v1uJTVusDWYf"
      },
      "source": [
        "## **Understanding Mini-Batch GD**"
      ]
    },
    {
      "cell_type": "markdown",
      "source": [
        "\n",
        "\n",
        "<center><img src='https://drive.google.com/uc?id=1l4HGDWFRXegdbk0x5DWvWcPEEOVr3RdB' width=800></center>\n",
        "\n"
      ],
      "metadata": {
        "id": "CeDM92uaptOa"
      }
    },
    {
      "cell_type": "markdown",
      "source": [
        "\n",
        "\n",
        "<center><img src='https://drive.google.com/uc?id=13EDtacLbKEbrbN_Z8K4HOX4eEHXmtZBe' width=800></center>\n",
        "\n"
      ],
      "metadata": {
        "id": "sKyGxkUNpynz"
      }
    },
    {
      "cell_type": "markdown",
      "source": [
        "\n",
        "\n",
        "<center><img src='https://drive.google.com/uc?id=1Sgrxc-2_98YOgO3K329Ut1eFj6bCmP75' width=800></center>\n",
        "\n",
        "\n"
      ],
      "metadata": {
        "id": "srGlqu23p3st"
      }
    },
    {
      "cell_type": "markdown",
      "source": [
        "\n",
        "**Quiz**\n",
        "\n",
        "```\n",
        "if data = 1024 (2^10), k = 32 (2^5) and epoch=2 , then what is total number of batches ?\n",
        "\n",
        "A) 2^10\n",
        "A) 2^10\n",
        "C) 2^5\n",
        "D) 2\n",
        "\n",
        "```\n",
        "\n",
        "**Correct Answer**\n",
        "\n",
        "C) $2^5$"
      ],
      "metadata": {
        "id": "WNpJLFzd3MZK"
      }
    },
    {
      "cell_type": "markdown",
      "metadata": {
        "id": "pruEx6np1DPp"
      },
      "source": [
        "**Quiz-4**\n",
        "\n",
        "```\n",
        "if data = 1024 (2^10), k = 32 (2^5) and epoch=2 , then what is number of iteration ?\n",
        "\n",
        "A) 2 * 2^5\n",
        "B) 2* 2^10\n",
        "C) 2^5\n",
        "D) 2^10\n",
        "\n",
        "```\n",
        "\n",
        "**Correct Answer**\n",
        "\n",
        "A) 2 * 2^5"
      ]
    },
    {
      "cell_type": "markdown",
      "metadata": {
        "id": "iGLWAqBw93kx"
      },
      "source": [
        "**Quiz-5**\n",
        "\n",
        "```\n",
        "After completion of one epoch should the same data be used for the next one ?\n",
        "\n",
        "a) True\n",
        "b) False\n",
        "```\n",
        "**Correct Answer**\n",
        "a) True"
      ]
    },
    {
      "cell_type": "markdown",
      "source": [
        "\n",
        "#### Will the gradient value be accurate for mini batch with k = 256 ?"
      ],
      "metadata": {
        "id": "zb9lN1uk32Lr"
      }
    },
    {
      "cell_type": "markdown",
      "source": [
        "\n",
        "\n",
        "<center><img src='https://drive.google.com/uc?id=1FjBmHHTLKMl9tVVlD9YUd6wz2AjqrrLW' width=800></center>\n",
        "\n"
      ],
      "metadata": {
        "id": "hv0Uft2XqkQr"
      }
    },
    {
      "cell_type": "markdown",
      "source": [
        "\n",
        "\n",
        "<center><img src='https://drive.google.com/uc?id=1bL58O40weizOVz9H2pQqwcO-ExvHITws' width=800></center>\n",
        "\n"
      ],
      "metadata": {
        "id": "I4nJ42x2CTjK"
      }
    },
    {
      "cell_type": "markdown",
      "source": [
        "\n",
        "\n",
        "#### How is Mini-Batch effective over Batch Gradient ? (optional)\n",
        "\n",
        "\n",
        "\n",
        "\n",
        "\n"
      ],
      "metadata": {
        "id": "EYe6Zc5L3-iK"
      }
    },
    {
      "cell_type": "markdown",
      "source": [
        "\n",
        "\n",
        "<center><img src='https://drive.google.com/uc?id=1QL-mgEn7V3n4Tw_WPxpv-FfFdEqvEplq' width=800></center>\n",
        "\n"
      ],
      "metadata": {
        "id": "WJT1Wp-BCe8Q"
      }
    },
    {
      "cell_type": "markdown",
      "source": [
        "**Observe:**\n",
        "We already have seen in Gradient Descent that:\n",
        "- **Vectorization is computed faster than iterating over n samples**\n",
        "\n",
        "- **Hence, Mini-Batch GD is just a vectorization of Batch Gradient**\n",
        " - As we divide the data into chunks in order to quickly find gradients\n"
      ],
      "metadata": {
        "id": "DOUC_DRLuW8u"
      }
    },
    {
      "cell_type": "markdown",
      "metadata": {
        "id": "EK9HDOxbKZrA"
      },
      "source": [
        "#### How is Gradient Descent step progress in Mini-Batch, SGD and Batch GD ?\n",
        "\n"
      ]
    },
    {
      "cell_type": "markdown",
      "source": [
        "Lets understand the fluctuations in weight values with a contour plot of loss:"
      ],
      "metadata": {
        "id": "mqKylLI0td68"
      }
    },
    {
      "cell_type": "markdown",
      "source": [
        "\n",
        "\n",
        "<center><img src='https://drive.google.com/uc?id=1xJUrzWR4jcw33ASYoSioP-5s0mCGYyWw' width=800></center>\n",
        "\n"
      ],
      "metadata": {
        "id": "6qFBMyqNtMiz"
      }
    },
    {
      "cell_type": "markdown",
      "source": [
        "\n",
        "\n",
        "<center><img src='https://drive.google.com/uc?id=1PHiqOLCvM5jzzj6FXHb9-g0gcvA-PwB2' width=800></center>\n",
        "\n"
      ],
      "metadata": {
        "id": "giL6BbfFtBQd"
      }
    },
    {
      "cell_type": "markdown",
      "source": [
        "**Quiz** (What do you think)\n",
        "\n",
        "```\n",
        "Where should we want Gradient descent to reach ?\n",
        "\n",
        "a) Outmost circle\n",
        "b) Innermost Circle\n",
        "\n",
        "\n",
        "\n",
        "```\n",
        "**Correct Answer**\n",
        "b) Innermost Circle"
      ],
      "metadata": {
        "id": "a38e233bBQhp"
      }
    },
    {
      "cell_type": "markdown",
      "metadata": {
        "id": "P0uau7LkJrVn"
      },
      "source": [
        "\n",
        "\n",
        "**Observe**\n",
        "\n",
        "1. For **Batch Gradient descent**,\n",
        "- Since the entire data is taken for gradients,\n",
        "    - the weight reaches optimal value with **least number of fluctuations per iteration**\n",
        "\n",
        "- But due to taking **whole data per iteration**, the time to compute one GD step/iteration  is very high\n",
        "\n",
        "<br>\n",
        "\n",
        "2. For **Stochastic GD**,\n",
        "- Since only a single datapoint is used for  gradients, and these datapoints can be noises in the data\n",
        "- Hence, there  will be **the maximum number of fluctuations in the weight value**\n",
        "\n",
        "\n",
        "\n",
        "<br>\n",
        "\n",
        "3. Now when **Mini-Batch GD** is used:\n",
        "-  Since it vectorizes the data into chunks, **Mini-Batch GD reaches optimal weight value the fastest**\n",
        "- With a cose of **few fluctuations in the weight value**\n",
        "\n",
        "\n",
        "\n",
        "\n",
        "\n",
        "\n",
        "\n"
      ]
    },
    {
      "cell_type": "markdown",
      "metadata": {
        "id": "my8A00W90b4C"
      },
      "source": [
        "**Quiz-6**\n",
        "\n",
        "```\n",
        "Which statement is true about mini-batch gradient descent?\n",
        "\n",
        "a) It guarantees convergence to the global minimum\n",
        "b) It may converge to a local minimum due to the weight fluctuations\n",
        "c) It requires a very high learning rate\n",
        "d) It is not suitable for large datasets.\n",
        "\n",
        "```\n",
        "\n",
        "**Correct Answer**\n",
        "\n",
        "b) It may converge to a local minimum due to the weight fluctuations"
      ]
    },
    {
      "cell_type": "markdown",
      "metadata": {
        "id": "RnlT-SpiUR9o"
      },
      "source": [
        "## **Mini-Batch Gradient code** - (Post Read)\n",
        "\n",
        "PostRead- Link: https://colab.research.google.com/drive/1EXhY2Ax1lPp7cc03bHvwtc-UQ78t6iKI?usp=sharing"
      ]
    },
    {
      "cell_type": "markdown",
      "metadata": {
        "id": "mqXNWy0NNTmo"
      },
      "source": [
        "##**Polynomial Regression**"
      ]
    },
    {
      "cell_type": "markdown",
      "metadata": {
        "id": "cyZQVlcMUkBp"
      },
      "source": [
        "Lets consider another dummy data\n",
        "\n",
        "- Here, we have 50 datapoints\n",
        "- But now the data is non-linear in nature"
      ]
    },
    {
      "cell_type": "code",
      "execution_count": null,
      "metadata": {
        "id": "_RMxjn_zUkBq"
      },
      "outputs": [],
      "source": [
        "import numpy as np\n",
        "import matplotlib.pyplot as plt\n",
        "\n",
        "\n",
        "np.random.seed(1)\n",
        "X = np.random.rand(50,1)\n",
        "y = 0.7*(X**5) - \\\n",
        "    2.1*(X**4) + \\\n",
        "    2.7*(X**3) + \\\n",
        "    3.5*(X**2) + \\\n",
        "    0.3* X + \\\n",
        "    0.4*np.random.rand(50,1) # no data in world is perfect"
      ]
    },
    {
      "cell_type": "code",
      "execution_count": null,
      "metadata": {
        "colab": {
          "base_uri": "https://localhost:8080/",
          "height": 329
        },
        "id": "6FTrCpyIUkBq",
        "outputId": "234f212c-d367-4ff9-9af7-bdbeb57960e8"
      },
      "outputs": [
        {
          "output_type": "stream",
          "name": "stdout",
          "text": [
            "0.9345996128366808\n"
          ]
        },
        {
          "output_type": "display_data",
          "data": {
            "text/plain": [
              "<Figure size 500x300 with 1 Axes>"
            ],
            "image/png": "[encoded data removed]"
          },
          "metadata": {}
        }
      ],
      "source": [
        "\n",
        "from sklearn.linear_model import LinearRegression\n",
        "\n",
        "\n",
        "\n",
        "model = LinearRegression()\n",
        "model.fit(X, y)\n",
        "\n",
        "output = model.predict(X)\n",
        "\n",
        "print(model.score(X,y))\n",
        "\n",
        "fig = plt.figure(figsize=(5,3))\n",
        "plt.scatter(X, y, label=\"samples\")\n",
        "plt.plot(X, output, label=\"prediction\",color='orange')\n",
        "plt.xlabel(\"X\")\n",
        "plt.ylabel(\"Y\")\n",
        "plt.show()\n",
        "\n"
      ]
    },
    {
      "cell_type": "markdown",
      "source": [
        "**observe**\n",
        "\n",
        "As Linear Regression did not fit the data well\n",
        "\n",
        "- Concluding that **Linear Regression is not the most suitable model to be used**"
      ],
      "metadata": {
        "id": "tO7un0gwqxic"
      }
    },
    {
      "cell_type": "markdown",
      "source": [
        "\n",
        "```\n",
        "\n",
        "Quiz-1\n",
        "```\n",
        "<img src =https://d2beiqkhq929f0.cloudfront.net/public_assets/assets/000/043/098/original/Screenshot_2023-08-16_at_4.25.13_PM.png?1692183322 width=400>\n",
        "\n",
        "```\n",
        "\n",
        "What do you think can be the suitable function here ?\n",
        "\n",
        "A. Linear\n",
        "B. Quadratic\n",
        "C. Log\n",
        "D. Sin\n",
        "\n",
        "```\n",
        "\n",
        "**Correct Answer**\n",
        "B. Quadratic"
      ],
      "metadata": {
        "id": "cJYMF4Hyq9sE"
      }
    },
    {
      "cell_type": "markdown",
      "source": [
        "## **Explaining Polynomial Regression theoretically**"
      ],
      "metadata": {
        "id": "hhZEkjdvTVYc"
      }
    },
    {
      "cell_type": "markdown",
      "metadata": {
        "id": "t8yFpsG6Sosq"
      },
      "source": [
        "#### How to make Linear Regression,  Quadratic ?\n",
        "\n",
        "By adding a new feature $f_2 = f_1^2$, such that:\n",
        "\n",
        "- $\\hat{y^{(i)}} = w_0 + w_1 f_1 + w_2 {f_1}^2$\n",
        "\n",
        "**Note:** Due to addition of a higher degree($>1$) for a feature,\n",
        "- we call this model as **Polynomial Regression**\n",
        "\n",
        "\n",
        "<br>\n",
        "\n",
        "#### Do we need a separate implementation for Polynomial Regression?\n",
        "\n",
        "Ans: No, we just need to add a new data column $f_2 = f_1^2$"
      ]
    },
    {
      "cell_type": "markdown",
      "source": [
        "\n",
        "\n",
        "<center><img src='https://drive.google.com/uc?id=1TVKLEQX8_ZMaDHQjpB41Ub0eGav58hxq' width=800></center>\n",
        "\n"
      ],
      "metadata": {
        "id": "n6-skCAOwVAI"
      }
    },
    {
      "cell_type": "markdown",
      "source": [
        "**observe**\n",
        "\n",
        "For the Polynomial Regression equation $\\hat{y^{(i)}} = w_0 + w_1f_1 + w_2 f_1^2$\n",
        "- it is still a linear combination of weights since the degree of weights are 1\n",
        "\n",
        "<br>\n",
        "\n",
        "**Concluding** that if we were to **plot the learnt hyperplane** of Polynomial Regression for $f_1$ and $f_2=f_1^2$\n",
        "- The hyperplane **will be linear**"
      ],
      "metadata": {
        "id": "FpyJmtic1cgg"
      }
    },
    {
      "cell_type": "markdown",
      "metadata": {
        "id": "D3Lo5ttc2TGd"
      },
      "source": [
        "**Quiz-7**\n",
        "\n",
        "```\n",
        "Is y = 0.5 * f1 + 0.2 * f1 + 4^2 * f1 ,quadratic ?\n",
        "\n",
        "A) Yes\n",
        "B) No\n",
        "\n",
        "```\n",
        "\n",
        "**Correct Answer**\n",
        "\n",
        "B) No\n"
      ]
    },
    {
      "cell_type": "markdown",
      "metadata": {
        "id": "tH0tteeagJar"
      },
      "source": [
        "#### Does using $f_2 = {f_1}^2$ causes MultiCollinearity ?\n",
        "\n",
        "\n"
      ]
    },
    {
      "cell_type": "markdown",
      "source": [
        "\n",
        "\n",
        "<center><img src='https://drive.google.com/uc?id=1iaiZNMyx159d6h0_NiCtRfQdebkok8OQ' width=800></center>\n",
        "\n",
        "\n",
        "\n"
      ],
      "metadata": {
        "id": "YfHShdsux_oL"
      }
    },
    {
      "cell_type": "markdown",
      "metadata": {
        "id": "liA1QIkD3MEc"
      },
      "source": [
        "**Quiz-8**\n",
        "\n",
        "\n",
        "```\n",
        "Does adding feature f2 = 0.5 * f1 , makes Lr model Multicollinear?\n",
        "\n",
        "A) True\n",
        "B) False\n",
        "\n",
        "\n",
        "```\n",
        "\n",
        "**Correct Answer**\n",
        "\n",
        "A) True"
      ]
    },
    {
      "cell_type": "markdown",
      "metadata": {
        "id": "6KsEF0Lf3eO7"
      },
      "source": [
        "**Quiz-10** (tricky)\n",
        "\n",
        "```\n",
        "What is the degree of a polynomial in polynomial regression?\n",
        "a) The number of features in the dataset.\n",
        "b) The number of training examples in the dataset.\n",
        "c) The highest power of the feature in the polynomial equation.\n",
        "d) The number of coefficients in the polynomial equation.\n",
        "\n",
        "```\n",
        "**Correct Answer**\n",
        "\n",
        "c) The highest power of the feature in the polynomial equation."
      ]
    },
    {
      "cell_type": "markdown",
      "metadata": {
        "id": "rG3TLq-obaaq"
      },
      "source": [
        "## **Polynomial Regression Code**\n"
      ]
    },
    {
      "cell_type": "markdown",
      "metadata": {
        "id": "plvPZ_-6k7rQ"
      },
      "source": [
        "\n",
        " Creating polynomial reg with $X^2$ feature added\n"
      ]
    },
    {
      "cell_type": "code",
      "execution_count": null,
      "metadata": {
        "id": "9IQITqz8PsMq"
      },
      "outputs": [],
      "source": [
        "def adj_r(r_sq,X,Y):\n",
        "  adj_r1 = (1 - ((1-r_sq)*(len(Y)-1))/(len(Y)-X.shape[1]-1) )\n",
        "  return adj_r1"
      ]
    },
    {
      "cell_type": "code",
      "execution_count": null,
      "metadata": {
        "id": "N5u1oQD_99fy"
      },
      "outputs": [],
      "source": [
        "def r2_score(y,y_):\n",
        "    num = np.sum((y-y_)**2)\n",
        "    denom = np.sum((y- y.mean())**2)\n",
        "    score = (1- num/denom)\n",
        "    return score"
      ]
    },
    {
      "cell_type": "code",
      "execution_count": null,
      "metadata": {
        "colab": {
          "base_uri": "https://localhost:8080/",
          "height": 329
        },
        "id": "rRIAFXqolBzk",
        "outputId": "e62262e0-ecd3-4e0c-bd28-2b90fe4a24c3"
      },
      "outputs": [
        {
          "output_type": "stream",
          "name": "stdout",
          "text": [
            "Adj. R-square: 0.9947910474710182\n"
          ]
        },
        {
          "output_type": "display_data",
          "data": {
            "text/plain": [
              "<Figure size 500x300 with 1 Axes>"
            ],
            "image/png": "[encoded data removed]"
          },
          "metadata": {}
        }
      ],
      "source": [
        "#adding new feature X^2\n",
        "X_deg2 = np.hstack([X, X**2])\n",
        "model_deg2 = LinearRegression()\n",
        "model_deg2.fit(X_deg2, y)\n",
        "output = model_deg2.predict(X_deg2)\n",
        "\n",
        "\n",
        "print('Adj. R-square:', adj_r(r2_score(y,output),X,y ) )\n",
        "fig = plt.figure(figsize=(5,3))\n",
        "plt.scatter(X, y, label=\"samples\")\n",
        "plt.scatter(X, output, label=\"prediction\",color='orange')\n",
        "plt.xlabel(\"X\")\n",
        "plt.ylabel(\"Y\")\n",
        "plt.show()\n"
      ]
    },
    {
      "cell_type": "markdown",
      "metadata": {
        "id": "JrxhO15glG1r"
      },
      "source": [
        "**observe**\n",
        "- The performance of the model increased drastically\n",
        "- Meaning that a non-linear feature did the trick\n",
        "\n",
        "\n",
        "\n"
      ]
    },
    {
      "cell_type": "markdown",
      "metadata": {
        "id": "g1ZKOz1zmrgM"
      },
      "source": [
        "#### But are we sure that degree=2 will be best? What about higher degrees?"
      ]
    },
    {
      "cell_type": "code",
      "execution_count": null,
      "metadata": {
        "colab": {
          "base_uri": "https://localhost:8080/",
          "height": 699
        },
        "id": "mZkd0EV3mu5t",
        "outputId": "a6f6da1e-e609-4ac2-813d-ae0177f87448"
      },
      "outputs": [
        {
          "output_type": "display_data",
          "data": {
            "text/plain": [
              "<Figure size 1200x800 with 6 Axes>"
            ],
            "image/png": "[encoded data removed]"
          },
          "metadata": {}
        }
      ],
      "source": [
        "from sklearn.preprocessing import PolynomialFeatures\n",
        "from sklearn.preprocessing import StandardScaler\n",
        "\n",
        "scores = []\n",
        "# Using Degrees 1 to 6, and seeing performance of the model\n",
        "\n",
        "# Create a 2x3 grid of subplots\n",
        "fig, axes = plt.subplots(2, 3, figsize=(12, 8))\n",
        "j = 0\n",
        "for i in range(1, 7):\n",
        "\n",
        "    #creates polynomial feature\n",
        "    poly = PolynomialFeatures(i)\n",
        "\n",
        "    X_poly = poly.fit_transform(X)\n",
        "    #Standardization\n",
        "    scaler = StandardScaler()\n",
        "    scaler.fit(X_poly)\n",
        "    X_poly_scaled = scaler.transform(X_poly)\n",
        "\n",
        "    #training model\n",
        "    model = LinearRegression()\n",
        "    model.fit(X_poly_scaled, y)\n",
        "\n",
        "    #Prediction\n",
        "    output = model.predict(X_poly_scaled)\n",
        "\n",
        "    #Plotting\n",
        "\n",
        "    axes[j,(i-1)%3].scatter(X, y, label=\"samples\")\n",
        "    axes[j,(i-1)%3].scatter(X, output, label=\"prediction\")\n",
        "    axes[j,(i-1)%3].set_title(f'Degree{i} model Adj. R^2: {round(adj_r(r2_score(y,output),X_poly_scaled,y ),2)}')\n",
        "\n",
        "    if(i==3):\n",
        "      j=1"
      ]
    },
    {
      "cell_type": "markdown",
      "metadata": {
        "id": "-RZ5uMVLgcQ3"
      },
      "source": [
        "**Observe**:\n",
        "- As the degree of the feature being added increases, the model performance gets better\n",
        "\n",
        "<br>\n",
        "\n",
        "\n",
        "\n",
        "\n",
        "\n"
      ]
    },
    {
      "cell_type": "markdown",
      "metadata": {
        "id": "QZwoEKLs4JKi"
      },
      "source": [
        "**Quiz-11**\n",
        "\n",
        "```\n",
        "Adj R-sq or R-sq be used when doing Polynomial Regression ?\n",
        "\n",
        "\n",
        "A) R-sq\n",
        "B) Adj R-sq\n",
        "C) Doesnt matter\n",
        "D) Use a different metric\n",
        "```\n",
        "\n",
        "**Correct Answer**\n",
        "\n",
        "B) Adj R-sq"
      ]
    },
    {
      "cell_type": "markdown",
      "metadata": {
        "id": "9DuiTGdPatGi"
      },
      "source": [
        "## **Underfitting and Overfitting**"
      ]
    },
    {
      "cell_type": "markdown",
      "source": [
        "### **Overfitting**"
      ],
      "metadata": {
        "id": "iRKiRpja8M5M"
      }
    },
    {
      "cell_type": "markdown",
      "source": [
        "#### Which model has the highest Adj R-squared ?\n",
        "\n",
        "Ans: Clearly, we see that Polynomial regression with degrees:\n",
        "- Degree 2,3,4,5,6 all have the highest Adj. R-squared value\n",
        "\n",
        "**This should mean**\n",
        "-  polynomial Regression with degree of 20, 40 should also perform well"
      ],
      "metadata": {
        "id": "Oy37WaEn7y0p"
      }
    },
    {
      "cell_type": "markdown",
      "source": [
        "#### What could be the potential problem with very high degree models ?\n",
        "\n",
        "Ans: high degree models become  very complex:\n",
        "- is that they may **learn noise besides meaningful patterns**\n",
        "\n",
        "<br>\n",
        "\n",
        "#### Do you remember what matters in ML the most ?\n",
        "Ans: The ML model must generalise the data, but for Higher degree polynomial\n",
        "\n",
        "- the model may learn every pattern in training data (including noise) which will improve training performance"
      ],
      "metadata": {
        "id": "hCI3JGHe8JnB"
      }
    },
    {
      "cell_type": "markdown",
      "source": [
        "\n",
        "\n",
        "<center><img src='https://drive.google.com/uc?id=1B5GmcIHes19oBHvSIceRVdbj658ULOub' width=800></center>\n",
        "\n",
        "\n"
      ],
      "metadata": {
        "id": "DudOAhOM9Gt2"
      }
    },
    {
      "cell_type": "markdown",
      "source": [
        "- But this learning may impact general training\n",
        "- and  cause the model to not perform well on testing data\n",
        "\n",
        "**Note:** This is called as **Overfitting** --> typically when **training performance is really good but testing performance is bad.**"
      ],
      "metadata": {
        "id": "SB_c48wd9Ihf"
      }
    },
    {
      "cell_type": "markdown",
      "source": [
        "**Quiz-16**\n",
        "\n",
        "```\n",
        "\n",
        "What is generalization in the context of machine learning?\n",
        "\n",
        "a) The ability of a model to perform well on the training data.\n",
        "b) The ability of a model to perform well on unseen data.\n",
        "c) The process of fitting the model to the training data.\n",
        "d) The process of evaluating the model's performance on the test data.\n",
        "\n",
        "```\n",
        "\n",
        "**Correct Answer**\n",
        "\n",
        "b) The ability of a model to perform well on unseen data."
      ],
      "metadata": {
        "id": "sXuZ_pwz-ZwY"
      }
    },
    {
      "cell_type": "markdown",
      "source": [
        "### **Underfitting**"
      ],
      "metadata": {
        "id": "dYZ01LqO-gvz"
      }
    },
    {
      "cell_type": "markdown",
      "source": [
        "Recall the case of **applying degree=1 on our data**,\n",
        "- model isnt even capable of learning the meaningful patterns\n",
        "- Forget performing good on testing data"
      ],
      "metadata": {
        "id": "f-1EZpLM_O5j"
      }
    },
    {
      "cell_type": "markdown",
      "source": [
        "\n",
        "\n",
        "<center><img src='https://drive.google.com/uc?id=10KC_Jc665I4EDIpYhbRQPYg5zo0Dr8GC' width=800></center>\n",
        "\n"
      ],
      "metadata": {
        "id": "pmBwl5VA_McA"
      }
    },
    {
      "cell_type": "markdown",
      "source": [
        "\n",
        "\n",
        "this low complexity model may not even be able to learn the patterns of training data\n",
        "\n",
        "<br>\n",
        "\n",
        "**Note:** This is called as **Underfitting** --> typically when **both training and testing performance is bad**"
      ],
      "metadata": {
        "id": "Iaps6ytx-aEK"
      }
    },
    {
      "cell_type": "markdown",
      "source": [
        "### Summary:"
      ],
      "metadata": {
        "id": "M7QtvOfB-4QS"
      }
    },
    {
      "cell_type": "markdown",
      "source": [
        "\n",
        "\n",
        "<center><img src='https://drive.google.com/uc?id=1IAk3keYmrRK2OjrvQ3WQyxz6yJ6o8dLh' width=800></center>\n",
        "\n"
      ],
      "metadata": {
        "id": "HagX2tJQh4gm"
      }
    },
    {
      "cell_type": "markdown",
      "metadata": {
        "id": "1A3x-_uxk9xr"
      },
      "source": [
        "## **Occam's Razor**"
      ]
    },
    {
      "cell_type": "markdown",
      "source": [
        "**Quiz**\n",
        "\n",
        "\n",
        "```\n",
        "Did you also notice that performance of degree=2,3,4,5,6 were almost identical! In such cases, which one would you prefer?\n",
        "\n",
        "A. Degree = 2\n",
        "B. Degree = 3\n",
        "C. Degree = 4\n",
        "D. Degree = 6\n",
        "\n",
        "```\n",
        "**Correct Answer**\n",
        "A. Degree = 2"
      ],
      "metadata": {
        "id": "oudG-Uwp_juZ"
      }
    },
    {
      "cell_type": "markdown",
      "source": [
        "\n",
        "#### Why do we pefer model with Degree=2 ?\n"
      ],
      "metadata": {
        "id": "7j0sG_E5_ij-"
      }
    },
    {
      "cell_type": "markdown",
      "source": [
        "\n",
        "\n",
        "<center><img src='https://drive.google.com/uc?id=18s73wPeDqP5WOG-wWLFK5JDoq0XITf2-' width=800></center>\n",
        "\n"
      ],
      "metadata": {
        "id": "Reldrmt2i52z"
      }
    },
    {
      "cell_type": "markdown",
      "source": [
        "Ans: Due to a **principle in Psychology called Occum's Razor** which says -\n",
        "\n",
        "- **choose simplicity**,, hence we will hence choose degree=2"
      ],
      "metadata": {
        "id": "B3z1shQJAieM"
      }
    },
    {
      "cell_type": "markdown",
      "metadata": {
        "id": "KQucc45p6bxf"
      },
      "source": [
        "**Quiz-17**\n",
        "\n",
        "```\n",
        "Why is Occam's Razor important in machine learning?\n",
        "\n",
        "a) It helps in selecting the model that fits the training data perfectly.\n",
        "b) It encourages the use of complex models.\n",
        "c) It helps in avoiding overfitting by favoring simpler models.\n",
        "d) It promotes the use of large datasets for training models.\n",
        "```\n",
        "**correct Answer**\n",
        "\n",
        "c) It helps in avoiding overfitting by favoring simpler models."
      ]
    },
    {
      "cell_type": "markdown",
      "metadata": {
        "id": "gAMiOCWr76eX"
      },
      "source": [
        "**Quiz-13**\n",
        "\n",
        "```\n",
        "Does the model LR = 5*f1 + 0*f1^2 + 0*f1^2 + 0*f1^4 underfit, overfit ?\n",
        "\n",
        "A) Underfit\n",
        "B) Overfit\n",
        "\n",
        "```\n",
        "\n",
        "**Correct Answer**\n",
        "A) Underfit"
      ]
    },
    {
      "cell_type": "markdown",
      "source": [
        "## **Underfitting Overfitting Code**"
      ],
      "metadata": {
        "id": "QltogDjfaoCc"
      }
    },
    {
      "cell_type": "markdown",
      "metadata": {
        "id": "S1xDiVBztR58"
      },
      "source": [
        "Lets perform the implementation for Linear Regression\n",
        "- With degree $\\in [1,34]$ , and plot the train and test performance"
      ]
    },
    {
      "cell_type": "code",
      "execution_count": null,
      "metadata": {
        "colab": {
          "base_uri": "https://localhost:8080/",
          "height": 311
        },
        "id": "9lBL0NA7VlOD",
        "outputId": "64c625b5-35d4-4310-8117-f80e6f88b35e"
      },
      "outputs": [
        {
          "output_type": "display_data",
          "data": {
            "text/plain": [
              "<Figure size 500x300 with 1 Axes>"
            ],
            "image/png": "[encoded data removed]"
          },
          "metadata": {}
        }
      ],
      "source": [
        "# lets first generate a dataset of 100 points this time\n",
        "import numpy as np\n",
        "import matplotlib.pyplot as plt\n",
        "\n",
        "np.random.seed(1)\n",
        "X = np.random.rand(100,1)\n",
        "y = 0.7*(X**5) - \\\n",
        "    2.1*(X**4) + \\\n",
        "    2.7*(X**3) + \\\n",
        "    3.5*(X**2) + \\\n",
        "    0.3* X + \\\n",
        "    0.4*np.random.rand(100,1)\n",
        "\n",
        "fig = plt.figure(figsize=(5,3))\n",
        "plt.scatter(X, y)\n",
        "plt.xlabel(\"X\")\n",
        "plt.ylabel(\"Y\")\n",
        "plt.show()\n",
        "\n",
        "\n",
        "from sklearn.model_selection import train_test_split\n",
        "X_train, X_test, y_train, y_test = train_test_split(X, y, test_size=0.2, random_state=1)"
      ]
    },
    {
      "cell_type": "code",
      "source": [
        "def adj_r(r_sq,X,Y):\n",
        "  adj_r1 = (1 - ((1-r_sq)*(len(Y)-1))/(len(Y)-X.shape[1]-1) )\n",
        "  return adj_r1"
      ],
      "metadata": {
        "id": "IZiDeE23bwTb"
      },
      "execution_count": null,
      "outputs": []
    },
    {
      "cell_type": "code",
      "execution_count": null,
      "metadata": {
        "id": "cfegifyRP1Hf"
      },
      "outputs": [],
      "source": [
        "from sklearn.preprocessing import PolynomialFeatures\n",
        "from sklearn.preprocessing import StandardScaler\n",
        "from sklearn.linear_model import LinearRegression\n",
        "from sklearn.pipeline import make_pipeline\n",
        "from sklearn.metrics import mean_squared_error\n",
        "\n",
        "degrees = 100 # number of data-points\n",
        "train_scores = []\n",
        "test_scores = []\n",
        "\n",
        "train_loss = []\n",
        "test_loss = []\n",
        "\n",
        "scaler = StandardScaler()\n",
        "\n",
        "for degree in range(1, degrees):\n",
        "\n",
        "    polyreg_scaled = make_pipeline(PolynomialFeatures(degree), scaler, LinearRegression())\n",
        "    polyreg_scaled.fit(X_train, y_train)\n",
        "\n",
        "    train_score = polyreg_scaled.score(X_train, y_train)\n",
        "    test_score = polyreg_scaled.score(X_test, y_test)\n",
        "\n",
        "    train_scores.append(adj_r(train_score,X_train,y_train))\n",
        "    test_scores.append(adj_r(test_score,X_test,y_test))\n",
        "\n",
        "    output1 = polyreg_scaled.predict(X_train)\n",
        "    output2 = polyreg_scaled.predict(X_test)\n",
        "\n",
        "    train_loss.append(mean_squared_error(y_train,output1))\n",
        "    test_loss.append(mean_squared_error(y_test,output2))\n"
      ]
    },
    {
      "cell_type": "code",
      "execution_count": null,
      "metadata": {
        "colab": {
          "base_uri": "https://localhost:8080/",
          "height": 308
        },
        "id": "9OgwdtZyP2S9",
        "outputId": "e82635e3-6a70-4032-f785-1aed7099f73a"
      },
      "outputs": [
        {
          "output_type": "display_data",
          "data": {
            "text/plain": [
              "<Figure size 1200x300 with 2 Axes>"
            ],
            "image/png": "[encoded data removed]"
          },
          "metadata": {}
        }
      ],
      "source": [
        "fig, axes = plt.subplots(1, 2, figsize=(12, 3))\n",
        "axes[0].plot(list(range(1, 100)), train_scores, label=\"train\")\n",
        "axes[0].plot(list(range(1, 100)), test_scores, label=\"test\")\n",
        "axes[0].legend(loc='lower right')\n",
        "axes[0].set_xlabel(\"degree\")\n",
        "axes[0].set_ylabel(\"Adj.R-score\")\n",
        "\n",
        "axes[1].plot(list(range(1, 100)), train_loss, label=\"train\")\n",
        "axes[1].plot(list(range(1, 100)), test_loss, label=\"test\")\n",
        "axes[1].legend(loc='upper left')\n",
        "axes[1].set_xlabel(\"degree\")\n",
        "axes[1].set_ylabel(\"MSE\")\n",
        "\n",
        "plt.show()"
      ]
    },
    {
      "cell_type": "markdown",
      "metadata": {
        "id": "fLA7vCUZweWH"
      },
      "source": [
        "**observe**\n",
        "\n",
        "As we go in higher Degree, the model test performance drop significantly\n",
        "- Which clearly indicates Overfitting\n",
        "\n",
        "While in the lower Degree, the model test and train perfromance is very low\n",
        "- Which shows Underfitting"
      ]
    },
    {
      "cell_type": "markdown",
      "metadata": {
        "id": "HvTpr_W1ZMjk"
      },
      "source": [
        "## **Bias-Variance Tradeoff**"
      ]
    },
    {
      "cell_type": "markdown",
      "source": [
        "\n",
        "\n",
        "<center><img src='https://drive.google.com/uc?id=1LYOeJ4XveAzhr94GQGYnxK7da3d_v6qf' width=800></center>\n",
        "\n",
        "\n"
      ],
      "metadata": {
        "id": "4IgUhJuNrz1m"
      }
    },
    {
      "cell_type": "markdown",
      "source": [
        "\n",
        "<center><img src='https://drive.google.com/uc?id=1-o3JfSwzU-597XpoXv0v2C6NKfMdy3gt' width=800></center>\n",
        "\n",
        "\n"
      ],
      "metadata": {
        "id": "FgcnsDQqsQLD"
      }
    },
    {
      "cell_type": "markdown",
      "source": [
        "\n",
        "\n",
        "<center><img src='https://drive.google.com/uc?id=16QmF28IbVV3el-LIQMo3Bz8SSfVYAnt6' width=800></center>\n",
        "\n"
      ],
      "metadata": {
        "id": "uT6iPVvBsZbl"
      }
    },
    {
      "cell_type": "markdown",
      "source": [
        "\n",
        "\n",
        "<center><img src='https://drive.google.com/uc?id=1X_BOfjjvC8Roh6k5lR2TmpbrMEj6TEnt' width=800></center>\n",
        "\n"
      ],
      "metadata": {
        "id": "wZPsOsnasevc"
      }
    },
    {
      "cell_type": "markdown",
      "source": [
        "\n",
        "\n",
        "<center><img src='https://drive.google.com/uc?id=11OP8TylDd1Kma591EoVkluseWfEPRNSs' width=800></center>\n",
        "\n",
        "\n"
      ],
      "metadata": {
        "id": "n1NvArS2siyQ"
      }
    },
    {
      "cell_type": "markdown",
      "source": [
        "#### So, ideally what should the model have ?\n",
        "\n",
        "Ans: **low bias and low variance**"
      ],
      "metadata": {
        "id": "TgEr8-Qpv6jL"
      }
    },
    {
      "cell_type": "markdown",
      "source": [
        "\n",
        "\n",
        "<center><img src='https://d2beiqkhq929f0.cloudfront.net/public_assets/assets/000/043/111/original/Screenshot_2023-08-16_at_6.40.16_PM.png?1692191426' width=800></center>\n",
        "\n",
        "\n",
        "\n",
        "\n"
      ],
      "metadata": {
        "id": "DcICOanatGyK"
      }
    },
    {
      "cell_type": "markdown",
      "source": [
        "As the model is hitting mostly on our target (bullseye)\n",
        "- We say, the model has low bias\n",
        "\n",
        "And since model is having a steady aim (consistent in its predictions for aiming)\n",
        "- We say, the model has low variance  "
      ],
      "metadata": {
        "id": "NW7mEzI6tP-6"
      }
    },
    {
      "cell_type": "markdown",
      "source": [
        "**Quiz-14**\n",
        "\n",
        "```\n",
        "if you hit close to target but have unsteady aim then:\n",
        "\n",
        "a) Case of high bias and low variance\n",
        "b) Case of low bias and low variance\n",
        "c) Case of high bias and high variance\n",
        "d) Case of low bias and high variance\n",
        "\n",
        "```\n",
        "**Correct Answer**\n",
        "d) Case of low bias and high variance"
      ],
      "metadata": {
        "id": "HmVG2gcPetya"
      }
    },
    {
      "cell_type": "markdown",
      "source": [
        "## **Relating Bias-Variance and Overfit-Underfit**"
      ],
      "metadata": {
        "id": "ijvif0ak2wMM"
      }
    },
    {
      "cell_type": "markdown",
      "source": [
        "#### What do you think will bias and variance for under-fitted model?Will the predictions be mostly off/bad?\n",
        "\n",
        "Ans: Yes, because model **unable to understand the patterns --> HIGH BIAS**\n",
        "\n",
        "\n",
        "<br>\n",
        "\n",
        "\n",
        "#### Will the predictions vary a lot with a slight change in the feature values of the samples ?\n",
        "\n",
        "Ans:  NO, **its a simple model --> LOW VARIANCE**"
      ],
      "metadata": {
        "id": "HFuNjqrnewFk"
      }
    },
    {
      "cell_type": "markdown",
      "source": [
        "\n",
        "\n",
        "<center><img src='https://drive.google.com/uc?id=1TEukKoJYDeQ-JX9g_pht--_7LZj1oTaX' width=800></center>\n",
        "\n"
      ],
      "metadata": {
        "id": "WpO2VsLJujz3"
      }
    },
    {
      "cell_type": "markdown",
      "source": [
        "#### What do you think about the  bias and variance for over-fitted model? Will the predictions be mostly off/bad?\n",
        "\n",
        "Ans: **Not always, it will be bad for the cases which are different from training samples** --> **LOW BIAS**\n",
        "\n",
        "<br>\n",
        "\n",
        "#### Will the predictions vary a lot with a slight change in the feature values of the samples ?\n",
        "\n",
        "Ans: YES, since **the model hypothesis is very complex --> HIGH VARIANCE**\n",
        "\n"
      ],
      "metadata": {
        "id": "84x_hplsfT_K"
      }
    },
    {
      "cell_type": "markdown",
      "metadata": {
        "id": "aV392RAU9vmK"
      },
      "source": [
        "**Quiz-15**\n",
        "\n",
        "```\n",
        "If model has train perf = 90% and test perf = 91%, then:\n",
        "\n",
        "a) Model is overfitting\n",
        "b) Model is Underfitting\n",
        "c) Model is Perfectly fitting\n",
        "d) Cant say\n",
        "\n",
        "```\n",
        "**correct answer**\n",
        "\n",
        "c) Model is Perfectly fitting"
      ]
    },
    {
      "cell_type": "markdown",
      "metadata": {
        "id": "6ARh47anA2fL"
      },
      "source": [
        "## **Regularization**"
      ]
    },
    {
      "cell_type": "markdown",
      "source": [
        "#### Which features are useful to have a perfectly fit model?"
      ],
      "metadata": {
        "id": "_NH-FvnzE80N"
      }
    },
    {
      "cell_type": "markdown",
      "source": [
        "\n",
        "\n",
        "<center><img src='https://d2beiqkhq929f0.cloudfront.net/public_assets/assets/000/043/112/original/Screenshot_2023-08-16_at_6.54.12_PM.png?1692192581_' width=800></center>\n",
        "\n",
        "\n"
      ],
      "metadata": {
        "id": "dt3-tOYwEeZF"
      }
    },
    {
      "cell_type": "markdown",
      "metadata": {
        "id": "XEnQ0NnbdsBp"
      },
      "source": [
        "**Quiz-19**\n",
        "\n",
        "```\n",
        "if LR = 1+1.5*f1+0.2*f2+0*f3, which is the least important feature ?\n",
        "\n",
        "a) w2\n",
        "b) f2\n",
        "c) w3\n",
        "d) f3\n",
        "\n",
        "```\n",
        "\n",
        "**Correct Answer**\n",
        "\n",
        "d) f3"
      ]
    },
    {
      "cell_type": "markdown",
      "metadata": {
        "id": "ZVmNfs5XVPPp"
      },
      "source": [
        "#### How to make $w_1, w_2 \\neq 0 $ and $w_3, w_4 = 0$ ?"
      ]
    },
    {
      "cell_type": "markdown",
      "source": [
        "\n",
        "\n",
        "<center><img src='https://d2beiqkhq929f0.cloudfront.net/public_assets/assets/000/043/113/original/Screenshot_2023-08-16_at_6.54.20_PM.png?1692192624' width=800></center>\n",
        "\n",
        "\n",
        "\n"
      ],
      "metadata": {
        "id": "jOC28B2AFSiI"
      }
    },
    {
      "cell_type": "markdown",
      "metadata": {
        "id": "rxvU4NN-TLUI"
      },
      "source": [
        "\n",
        "Here  $d$ is the number of features\n",
        "\n",
        "<br>\n",
        "\n",
        "**Note:** This term $\\sum_{j=1}^{d} w_j^2$ is called **regularization** and its used:\n",
        "- So that Gradient Descent works in minimizing values of $w_j $ by making them $≈ 0$\n"
      ]
    },
    {
      "cell_type": "markdown",
      "metadata": {
        "id": "tkPpi5e_W147"
      },
      "source": [
        "#### Understanding the new Loss function"
      ]
    },
    {
      "cell_type": "markdown",
      "source": [
        "\n",
        "\n",
        "<center><img src='https://d2beiqkhq929f0.cloudfront.net/public_assets/assets/000/043/114/original/Screenshot_2023-08-16_at_6.54.27_PM.png?1692192643' width=800></center>\n",
        "\n",
        "\n",
        "\n"
      ],
      "metadata": {
        "id": "iHFQbFK4F5RU"
      }
    },
    {
      "cell_type": "markdown",
      "metadata": {
        "id": "Yv3OLKnpeo0b"
      },
      "source": [
        "**Quiz-20**\n",
        "\n",
        "```\n",
        "In a loss, MSE causes __ and Regularization term causes __\n",
        "\n",
        "a) Overfit,Underfit\n",
        "b) Underfit,Overfit\n",
        "\n",
        "```\n",
        "\n",
        "**Correct Answer**\n",
        "\n",
        "a) Overfit,Underfit"
      ]
    },
    {
      "cell_type": "markdown",
      "metadata": {
        "id": "58MobVOXW1TZ"
      },
      "source": [
        "#### How to get that sweet spot between loss function and Regularization ?"
      ]
    },
    {
      "cell_type": "markdown",
      "source": [
        "\n",
        "\n",
        "<center><img src='https://d2beiqkhq929f0.cloudfront.net/public_assets/assets/000/043/115/original/Screenshot_2023-08-16_at_6.54.34_PM.png?1692192678' width=800></center>\n",
        "\n",
        "\n"
      ],
      "metadata": {
        "id": "NGeJOTT_JAnn"
      }
    },
    {
      "cell_type": "markdown",
      "metadata": {
        "id": "DB-OfGlEeRss"
      },
      "source": [
        "\n",
        "\n",
        "#### How does $\\lambda$ creates that sweet spot between MSE and Regularization term ?\n",
        "\n",
        "Ans: With a **right $\\lambda$ value** :\n",
        "\n",
        "1. There is **enough freedom to MSE** so that:\n",
        "  - The **weights are  optimized** to reach the **lowest possible MSE value**\n",
        "  - Which **does not lead to overfitting**\n",
        "\n",
        "2. It also provide **enough freedom to Regularization term** so that:\n",
        " - The regularization term can make the weights of the model close to 0\n",
        " - Which **does not lead to underfitting**\n",
        "\n",
        "<br>\n",
        "\n",
        "**Note:** The term $w_j^2$ is called as L2/Ridge Regularization\n",
        "\n"
      ]
    },
    {
      "cell_type": "markdown",
      "metadata": {
        "id": "0-4OV0jTfOo_"
      },
      "source": [
        "**Quiz-21**\n",
        "\n",
        "```\n",
        "What is the range of values for the regularization constant lambda?\n",
        "a) [0, 1]\n",
        "b) [0, $\\infty$)\n",
        "c) (-$\\infty$, $\\infty$)\n",
        "d) (-1, 1)\n",
        "\n",
        "```\n",
        "**correct Answer**\n",
        "b) [0, $\\infty$)"
      ]
    },
    {
      "cell_type": "markdown",
      "source": [
        "## **Points to Remember**"
      ],
      "metadata": {
        "id": "1m0jgJ-1jBXi"
      }
    },
    {
      "cell_type": "markdown",
      "source": [
        "\n",
        "\n",
        "<center><img src='https://d2beiqkhq929f0.cloudfront.net/public_assets/assets/000/043/117/original/Screenshot_2023-08-16_at_6.54.48_PM.png?1692192728' width=800></center>\n",
        "\n",
        "\n"
      ],
      "metadata": {
        "id": "RTp076ojJ5iW"
      }
    },
    {
      "cell_type": "markdown",
      "metadata": {
        "id": "B6YDuTZkgbE9"
      },
      "source": [
        "**Quiz-22**\n",
        "\n",
        "```\n",
        "What is the role of $\\lambda$ in preventing overfitting?\n",
        "a) It increases overfitting\n",
        "b) It decreases underfitting\n",
        "c) It helps find the optimal trade-off\n",
        "d) It has no impact on overfitting\n",
        "\n",
        "```\n",
        "**Correct Answer**\n",
        "c) It helps find the optimal trade-off"
      ]
    },
    {
      "cell_type": "markdown",
      "metadata": {
        "id": "9wzGnFifujng"
      },
      "source": [
        "**Quiz-23**\n",
        "\n",
        "```\n",
        "Will $\\sum_{j=1}^{d}w_j^4$ will cause the same issue as $w_j^3$ ?\n",
        "\n",
        "a) True\n",
        "b) False\n",
        "\n",
        "```\n",
        "**correct Answer**\n",
        "\n",
        "b) False"
      ]
    },
    {
      "cell_type": "markdown",
      "metadata": {
        "id": "H_koHtP3g7il"
      },
      "source": [
        "**Quiz-24**\n",
        "\n",
        "```\n",
        "which to pick $w_j^4$ and $w_j^8$?\n",
        "\n",
        "a) $w_j^4$\n",
        "b) $w_j^8$\n",
        "\n",
        "```\n",
        "**correct Answer**\n",
        "\n",
        "a)  $w_j^4$"
      ]
    },
    {
      "cell_type": "markdown",
      "metadata": {
        "id": "-1F5sBngzYxs"
      },
      "source": [
        "## **L-1 Regularization**"
      ]
    },
    {
      "cell_type": "markdown",
      "metadata": {
        "id": "O9NTYwDFxWuc"
      },
      "source": [
        "#### What do you think, will $\\sum_{j=1}^{d} |w_j|$ work ?"
      ]
    },
    {
      "cell_type": "markdown",
      "source": [
        "\n",
        "\n",
        "<center><img src='https://d2beiqkhq929f0.cloudfront.net/public_assets/assets/000/043/120/original/Screenshot_2023-08-16_at_6.55.09_PM.png?1692192872' width=800></center>\n",
        "\n",
        "\n",
        "\n"
      ],
      "metadata": {
        "id": "2SrXXNv8K5N3"
      }
    },
    {
      "cell_type": "markdown",
      "source": [
        "<center><img src=https://d2beiqkhq929f0.cloudfront.net/public_assets/assets/000/043/123/original/Screenshot_2023-08-16_at_7.33.45_PM.png?1692194777 width=800></center>"
      ],
      "metadata": {
        "id": "L1I9RHwDqv4p"
      }
    },
    {
      "cell_type": "markdown",
      "metadata": {
        "id": "mjl3lypvhmmK"
      },
      "source": [
        "**quiz-25**\n",
        "\n",
        "```\n",
        "\n",
        "What is L1 regularization also known as?\n",
        "a) Ridge regularization\n",
        "b) Lasso regularization\n",
        "```\n",
        "**correct answer**\n",
        "b) Lasso regularization"
      ]
    },
    {
      "cell_type": "markdown",
      "metadata": {
        "id": "fxr9ye1XztsL"
      },
      "source": [
        "## **Interesting property of L1 and L2 Reg**"
      ]
    },
    {
      "cell_type": "markdown",
      "metadata": {
        "id": "hYBhHsRv80LP"
      },
      "source": [
        "#### When to use L1, L2 Regularization ?"
      ]
    },
    {
      "cell_type": "markdown",
      "source": [
        "<center><img src=https://d2beiqkhq929f0.cloudfront.net/public_assets/assets/000/043/124/original/Screenshot_2023-08-16_at_7.34.47_PM.png?1692194929 width=800></center>"
      ],
      "metadata": {
        "id": "Rdb2TslUrVVX"
      }
    },
    {
      "cell_type": "markdown",
      "metadata": {
        "id": "IIt575mF-7R3"
      },
      "source": [
        "#### Why does L1 create a sparse W and L2 does not ?"
      ]
    },
    {
      "cell_type": "markdown",
      "source": [
        "\n",
        "\n",
        "<center><img src='https://d2beiqkhq929f0.cloudfront.net/public_assets/assets/000/043/121/original/Screenshot_2023-08-16_at_6.55.16_PM.png?1692192926' width=800></center>\n",
        "\n",
        "\n"
      ],
      "metadata": {
        "id": "D-1Mf3QdLquJ"
      }
    },
    {
      "cell_type": "markdown",
      "metadata": {
        "id": "APaRM71I8A_5"
      },
      "source": [
        "Ans: To figure out why L1 creates a sparse matrix and L2 does not, lets look into weight updation:\n",
        "\n",
        "- $w_j^{new} =w_j^{old} - \\eta \\frac{\\partial L}{\\partial W_j} $\n",
        "\n",
        "<br>\n",
        "\n",
        "As **MSE remains same, so the only change** is caused due to **derivative of $|w_j|$ and $w_j^2$**\n",
        "\n",
        "<br>\n",
        "\n",
        "#### What do you think, will be the derivative of  $|w_j|$ and $w_j^2$ ?\n",
        "\n",
        "Ans: for $\\frac{d|w_j|}{dw_j} =  [1,0,-1] $ while for $\\frac{d|w_j^2|}{dw_j} = 2 \\times w_j$\n",
        "\n",
        "<br>\n",
        "\n",
        "**observe**\n",
        "$\\frac{d|w_j|}{dw_j}$ is **independent of $w_j$**\n",
        "- hence quickly reaches 0\n",
        "\n",
        "<br>\n",
        "\n",
        "while $\\frac{dw_j^2}{dw_j}$ is **dependent on $w_j$**\n",
        "- hence **when  $w_j$ large**, it **reaches close to 0 very fast**\n",
        "\n",
        "- But as **$w_j$ approaches zero, the value becomes very small** --> causing **$w_j$ to remain close to 0 only**\n",
        "\n"
      ]
    },
    {
      "cell_type": "markdown",
      "metadata": {
        "id": "y0YG1FPnh1-a"
      },
      "source": [
        "**Quiz-26**\n",
        "\n",
        "```\n",
        "What is the main purpose of L1 regularization?\n",
        "a) reduce model complexity\n",
        "b) increase MSE\n",
        "c) reduce underfitting\n",
        "d) sparsity in feature selection\n",
        "```\n",
        "**correct Answer**\n",
        "\n",
        "d) sparsity in feature selection"
      ]
    },
    {
      "cell_type": "markdown",
      "metadata": {
        "id": "y9-uI5yth2me"
      },
      "source": [
        "**quiz-27**\n",
        "\n",
        "```\n",
        "Does L2 depend on $w_j$ ?\n",
        "\n",
        "a) True\n",
        "b) False\n",
        "```\n",
        "\n",
        "**Correct Answer**\n",
        "a) True"
      ]
    },
    {
      "cell_type": "markdown",
      "metadata": {
        "id": "HhpY65Fq8GoO"
      },
      "source": [
        "#### If you are not sure which regularization to use, is there a way to combine both L1 and L2 ?"
      ]
    },
    {
      "cell_type": "markdown",
      "source": [
        "\n",
        "\n",
        "<center><img src='https://d2beiqkhq929f0.cloudfront.net/public_assets/assets/000/043/122/original/Screenshot_2023-08-16_at_6.59.22_PM.png?1692192957' width=800></center>\n",
        "\n",
        "\n"
      ],
      "metadata": {
        "id": "5Gy552lGMVSh"
      }
    },
    {
      "cell_type": "markdown",
      "metadata": {
        "id": "ik63UmenfwKW"
      },
      "source": [
        "**Quiz-28**\n",
        "\n",
        "```\n",
        "In which regularization technique two regularization constant lambda are used?\n",
        "a) L1 regularization\n",
        "b) L2 regularization\n",
        "c) Elastic Net regularization\n",
        "d) All of the above\n",
        "\n",
        "```\n",
        "\n",
        "**Correct Answer**\n",
        "c) Elastic Net regularization"
      ]
    },
    {
      "cell_type": "markdown",
      "metadata": {
        "id": "JaohGQKWMp3k"
      },
      "source": [
        "## **L1, L2 Regularization Code**"
      ]
    },
    {
      "cell_type": "markdown",
      "metadata": {
        "id": "t3ToYDt8jtso"
      },
      "source": [
        "#### Using Sklearn diabetes data - https://scikit-learn.org/stable/datasets/toy_dataset.html#diabetes-dataset\n"
      ]
    },
    {
      "cell_type": "markdown",
      "source": [
        "<img src= https://d2beiqkhq929f0.cloudfront.net/public_assets/assets/000/043/110/original/Screenshot_2023-08-16_at_6.03.47_PM.png?1692189250 width=800>"
      ],
      "metadata": {
        "id": "ujMbTLBPVw-e"
      }
    },
    {
      "cell_type": "code",
      "source": [
        "from sklearn import datasets\n",
        "\n",
        "data = datasets.load_diabetes()"
      ],
      "metadata": {
        "id": "RjQzOwiKLSOO"
      },
      "execution_count": null,
      "outputs": []
    },
    {
      "cell_type": "code",
      "source": [
        "X = data['data']\n",
        "\n",
        "y = data['target']"
      ],
      "metadata": {
        "id": "doxHt-c1L0X-"
      },
      "execution_count": null,
      "outputs": []
    },
    {
      "cell_type": "code",
      "source": [
        "from sklearn.model_selection import train_test_split\n",
        "from sklearn.preprocessing import StandardScaler"
      ],
      "metadata": {
        "id": "zs5FmRSWLBz9"
      },
      "execution_count": null,
      "outputs": []
    },
    {
      "cell_type": "code",
      "source": [
        "# Split the data into training and testing sets\n",
        "X_train, X_test, y_train, y_test = train_test_split(X, y, test_size=0.2, random_state=42)"
      ],
      "metadata": {
        "id": "P1aEYq9HLJER"
      },
      "execution_count": null,
      "outputs": []
    },
    {
      "cell_type": "code",
      "source": [
        "# Transform the features into polynomial features\n",
        "degree = 25\n",
        "poly = PolynomialFeatures(degree=degree)\n",
        "X_train_poly = poly.fit_transform(X_train)\n",
        "X_test_poly = poly.transform(X_test)\n"
      ],
      "metadata": {
        "id": "c_tzZzMlOa-m"
      },
      "execution_count": null,
      "outputs": []
    },
    {
      "cell_type": "code",
      "source": [
        "# Standardize the polynomial features\n",
        "scaler = StandardScaler()\n",
        "X_train_poly_scaled = scaler.fit_transform(X_train_poly)\n",
        "X_test_poly_scaled = scaler.transform(X_test_poly)"
      ],
      "metadata": {
        "id": "8yJn0BtHLKB_"
      },
      "execution_count": null,
      "outputs": []
    },
    {
      "cell_type": "markdown",
      "source": [
        "Using Sklearn's Linear Regression"
      ],
      "metadata": {
        "id": "Uw-G7f4gE8-3"
      }
    },
    {
      "cell_type": "code",
      "source": [
        "from sklearn.linear_model import LinearRegression"
      ],
      "metadata": {
        "id": "b02uTV6SE8nZ"
      },
      "execution_count": null,
      "outputs": []
    },
    {
      "cell_type": "code",
      "source": [
        "model = LinearRegression()\n",
        "model.fit(X_train_poly_scaled , y_train)\n",
        "\n",
        "output = model.predict(X_test_poly_scaled)\n"
      ],
      "metadata": {
        "id": "RKeNKjUSE8id"
      },
      "execution_count": null,
      "outputs": []
    },
    {
      "cell_type": "markdown",
      "source": [
        "taking MSE as metric instead of Adj.R-sq"
      ],
      "metadata": {
        "id": "67m89wRTV6OG"
      }
    },
    {
      "cell_type": "code",
      "source": [
        "from sklearn.metrics import mean_squared_error\n",
        "\n",
        "print('MSE for test:', mean_squared_error(y_test, output))\n",
        "\n",
        "output = model.predict(X_train_poly_scaled)\n",
        "print('MSE for train:', mean_squared_error(y_train, output))"
      ],
      "metadata": {
        "colab": {
          "base_uri": "https://localhost:8080/"
        },
        "id": "xrzcsodeOwbA",
        "outputId": "a764aebe-9aff-47f5-b5b4-430519d24097"
      },
      "execution_count": null,
      "outputs": [
        {
          "output_type": "stream",
          "name": "stdout",
          "text": [
            "MSE for test: 0.5666499001635114\n",
            "MSE for train: 0.008357580005352718\n"
          ]
        }
      ]
    },
    {
      "cell_type": "markdown",
      "source": [
        "**observe**\n",
        "- Clearly polynomial regression with degree=25 overfits"
      ],
      "metadata": {
        "id": "Bj-gKiEMJ1Rc"
      }
    },
    {
      "cell_type": "markdown",
      "source": [
        "Lets see how L1 and L2 regularisation work"
      ],
      "metadata": {
        "id": "xC1-5bblKGhr"
      }
    },
    {
      "cell_type": "code",
      "source": [
        "from sklearn.linear_model import Lasso, Ridge"
      ],
      "metadata": {
        "id": "p0dj9dwkJ1CY"
      },
      "execution_count": null,
      "outputs": []
    },
    {
      "cell_type": "code",
      "source": [
        "lasso_model = Lasso(alpha=0.01)  # Alpha is the regularization strength\n",
        "ridge_model = Ridge(alpha=1.0)    # Alpha is the regularization strength"
      ],
      "metadata": {
        "id": "BpJodFHcH2Je"
      },
      "execution_count": null,
      "outputs": []
    },
    {
      "cell_type": "code",
      "source": [
        "# Fit the models to the training data\n",
        "lasso_model.fit(X_train_poly_scaled, y_train)\n",
        "ridge_model.fit(X_train_poly_scaled, y_train)"
      ],
      "metadata": {
        "colab": {
          "base_uri": "https://localhost:8080/",
          "height": 75
        },
        "id": "8SEVzWIGKatT",
        "outputId": "64cea9d8-0eb5-410e-9ba4-8143a6d95226"
      },
      "execution_count": null,
      "outputs": [
        {
          "output_type": "execute_result",
          "data": {
            "text/plain": [
              "Ridge()"
            ],
            "text/html": [
              "<style>#sk-container-id-8 {color: black;background-color: white;}#sk-container-id-8 pre{padding: 0;}#sk-container-id-8 div.sk-toggleable {background-color: white;}#sk-container-id-8 label.sk-toggleable__label {cursor: pointer;display: block;width: 100%;margin-bottom: 0;padding: 0.3em;box-sizing: border-box;text-align: center;}#sk-container-id-8 label.sk-toggleable__label-arrow:before {content: \"▸\";float: left;margin-right: 0.25em;color: #696969;}#sk-container-id-8 label.sk-toggleable__label-arrow:hover:before {color: black;}#sk-container-id-8 div.sk-estimator:hover label.sk-toggleable__label-arrow:before {color: black;}#sk-container-id-8 div.sk-toggleable__content {max-height: 0;max-width: 0;overflow: hidden;text-align: left;background-color: #f0f8ff;}#sk-container-id-8 div.sk-toggleable__content pre {margin: 0.2em;color: black;border-radius: 0.25em;background-color: #f0f8ff;}#sk-container-id-8 input.sk-toggleable__control:checked~div.sk-toggleable__content {max-height: 200px;max-width: 100%;overflow: auto;}#sk-container-id-8 input.sk-toggleable__control:checked~label.sk-toggleable__label-arrow:before {content: \"▾\";}#sk-container-id-8 div.sk-estimator input.sk-toggleable__control:checked~label.sk-toggleable__label {background-color: #d4ebff;}#sk-container-id-8 div.sk-label input.sk-toggleable__control:checked~label.sk-toggleable__label {background-color: #d4ebff;}#sk-container-id-8 input.sk-hidden--visually {border: 0;clip: rect(1px 1px 1px 1px);clip: rect(1px, 1px, 1px, 1px);height: 1px;margin: -1px;overflow: hidden;padding: 0;position: absolute;width: 1px;}#sk-container-id-8 div.sk-estimator {font-family: monospace;background-color: #f0f8ff;border: 1px dotted black;border-radius: 0.25em;box-sizing: border-box;margin-bottom: 0.5em;}#sk-container-id-8 div.sk-estimator:hover {background-color: #d4ebff;}#sk-container-id-8 div.sk-parallel-item::after {content: \"\";width: 100%;border-bottom: 1px solid gray;flex-grow: 1;}#sk-container-id-8 div.sk-label:hover label.sk-toggleable__label {background-color: #d4ebff;}#sk-container-id-8 div.sk-serial::before {content: \"\";position: absolute;border-left: 1px solid gray;box-sizing: border-box;top: 0;bottom: 0;left: 50%;z-index: 0;}#sk-container-id-8 div.sk-serial {display: flex;flex-direction: column;align-items: center;background-color: white;padding-right: 0.2em;padding-left: 0.2em;position: relative;}#sk-container-id-8 div.sk-item {position: relative;z-index: 1;}#sk-container-id-8 div.sk-parallel {display: flex;align-items: stretch;justify-content: center;background-color: white;position: relative;}#sk-container-id-8 div.sk-item::before, #sk-container-id-8 div.sk-parallel-item::before {content: \"\";position: absolute;border-left: 1px solid gray;box-sizing: border-box;top: 0;bottom: 0;left: 50%;z-index: -1;}#sk-container-id-8 div.sk-parallel-item {display: flex;flex-direction: column;z-index: 1;position: relative;background-color: white;}#sk-container-id-8 div.sk-parallel-item:first-child::after {align-self: flex-end;width: 50%;}#sk-container-id-8 div.sk-parallel-item:last-child::after {align-self: flex-start;width: 50%;}#sk-container-id-8 div.sk-parallel-item:only-child::after {width: 0;}#sk-container-id-8 div.sk-dashed-wrapped {border: 1px dashed gray;margin: 0 0.4em 0.5em 0.4em;box-sizing: border-box;padding-bottom: 0.4em;background-color: white;}#sk-container-id-8 div.sk-label label {font-family: monospace;font-weight: bold;display: inline-block;line-height: 1.2em;}#sk-container-id-8 div.sk-label-container {text-align: center;}#sk-container-id-8 div.sk-container {/* jupyter's `normalize.less` sets `[hidden] { display: none; }` but bootstrap.min.css set `[hidden] { display: none !important; }` so we also need the `!important` here to be able to override the default hidden behavior on the sphinx rendered scikit-learn.org. See: https://github.com/scikit-learn/scikit-learn/issues/21755 */display: inline-block !important;position: relative;}#sk-container-id-8 div.sk-text-repr-fallback {display: none;}</style><div id=\"sk-container-id-8\" class=\"sk-top-container\"><div class=\"sk-text-repr-fallback\"><pre>Ridge()</pre><b>In a Jupyter environment, please rerun this cell to show the HTML representation or trust the notebook. <br />On GitHub, the HTML representation is unable to render, please try loading this page with nbviewer.org.</b></div><div class=\"sk-container\" hidden><div class=\"sk-item\"><div class=\"sk-estimator sk-toggleable\"><input class=\"sk-toggleable__control sk-hidden--visually\" id=\"sk-estimator-id-8\" type=\"checkbox\" checked><label for=\"sk-estimator-id-8\" class=\"sk-toggleable__label sk-toggleable__label-arrow\">Ridge</label><div class=\"sk-toggleable__content\"><pre>Ridge()</pre></div></div></div></div></div>"
            ]
          },
          "metadata": {},
          "execution_count": 174
        }
      ]
    },
    {
      "cell_type": "code",
      "source": [
        "lasso_predictions = lasso_model.predict(X_test_poly_scaled)\n",
        "ridge_predictions = ridge_model.predict(X_test_poly_scaled)\n",
        "\n",
        "print('test MSE for L1:', mean_squared_error(y_test, lasso_predictions))\n",
        "print('test MSE for L2:', mean_squared_error(y_test, ridge_predictions))"
      ],
      "metadata": {
        "colab": {
          "base_uri": "https://localhost:8080/"
        },
        "id": "Nu3v2IpJKVTf",
        "outputId": "b9dc2ff7-5b4b-4aeb-bd11-0f2e47962919"
      },
      "execution_count": null,
      "outputs": [
        {
          "output_type": "stream",
          "name": "stdout",
          "text": [
            "test MSE for L1: 0.0740903022700856\n",
            "test MSE for L2: 0.05959763974374463\n"
          ]
        }
      ]
    },
    {
      "cell_type": "markdown",
      "source": [
        "\n",
        "**observe**\n",
        "\n",
        "Using Regularisation the test MSE reduces for our Polynomial regression model with degree=25\n",
        "\n",
        "This shows how regularisation helps the model"
      ],
      "metadata": {
        "id": "Sea7TlC7P5x3"
      }
    },
    {
      "cell_type": "markdown",
      "source": [
        "## **Points to Remember**"
      ],
      "metadata": {
        "id": "xXSasky7rgJw"
      }
    },
    {
      "cell_type": "markdown",
      "source": [
        "<center><img src=https://d2beiqkhq929f0.cloudfront.net/public_assets/assets/000/043/125/original/Screenshot_2023-08-16_at_7.35.10_PM.png?1692194983 width=800> </center>"
      ],
      "metadata": {
        "id": "9vDGYkrJriWY"
      }
    },
    {
      "cell_type": "markdown",
      "source": [
        "<center><img src=https://d2beiqkhq929f0.cloudfront.net/public_assets/assets/000/043/126/original/Screenshot_2023-08-16_at_7.35.19_PM.png?1692195015 width=800> </center>"
      ],
      "metadata": {
        "id": "Tb2JGrbKrii3"
      }
    },
    {
      "cell_type": "markdown",
      "source": [
        "## Hyperparameters"
      ],
      "metadata": {
        "id": "tH2dsh_kccP0"
      }
    },
    {
      "cell_type": "markdown",
      "source": [
        "\n",
        "<img src='https://drive.google.com/uc?id=1OBcf7akFgVKILdGh-5_5joIjwnwX70-H' width=800>\n"
      ],
      "metadata": {
        "id": "SeLVPSt-oZWB"
      }
    },
    {
      "cell_type": "markdown",
      "source": [
        "#### What do you mean by parameters and hyperparameters then?"
      ],
      "metadata": {
        "id": "9QEsHDqxcgZq"
      }
    },
    {
      "cell_type": "markdown",
      "source": [
        "\n",
        "<img src='https://drive.google.com/uc?id=1Pp9htiEejVA8THdjgjYWM-XulHTE2CLH' width=800>\n"
      ],
      "metadata": {
        "id": "0cM3-p1Qquet"
      }
    },
    {
      "cell_type": "markdown",
      "source": [
        "Any kind of value which the data scientist sets from their side.\n",
        "\n",
        "E.g.:\n",
        "  - Degree of the model\n",
        "  - Regularization Rate, lamdba, $λ$\n",
        "\n",
        "and so on."
      ],
      "metadata": {
        "id": "lkX5JMuYc2aw"
      }
    },
    {
      "cell_type": "markdown",
      "source": [
        "**Quiz 1** (What do you think?)\n",
        "```\n",
        "Which of the following is NOT a hyperparameter?\n",
        "A) Learning rate.\n",
        "B) Degree of Polynomial in polynomial regression\n",
        "C) Feature importance.\n",
        "D) Regularization strength.\n",
        "\n",
        "Correct Answer: C) Feature importance.\n",
        "```"
      ],
      "metadata": {
        "id": "RUGGVqzIM2f3"
      }
    },
    {
      "cell_type": "markdown",
      "source": [
        "<!-- Let's take the example of Regularization rate.\n",
        "\n",
        "#### What can be the possible cases and values for $λ$?\n",
        "- Case I: $λ$ = 0\n",
        "  - No regularization\n",
        "  - Would mean a very complex model\n",
        "  - overfitting\n",
        "- Case II: $λ$ = 10000\n",
        "  - Would mean a very simple model\n",
        "  - Underfitting\n",
        "- Case III: $λ$ = somewhere between 0 and 10000\n",
        "  - we need to find this value\n",
        " -->\n"
      ],
      "metadata": {
        "id": "HGdoh8_wdOiV"
      }
    },
    {
      "cell_type": "markdown",
      "source": [
        "**Quiz** (Let's check your knowledge)\n",
        "\n",
        "```\n",
        "What would a lambda/regularization rate value of 0 signify?\n",
        "\n",
        "A. Complex and overfitting\n",
        "B. Complex and underfitting\n",
        "C. Simple and overfitting\n",
        "\n",
        "Ans: A\n",
        "```"
      ],
      "metadata": {
        "id": "4YW7DW7cNkDg"
      }
    },
    {
      "cell_type": "markdown",
      "source": [
        "#### How do we choose the hyperparameter values?"
      ],
      "metadata": {
        "id": "9aVSxDQjdItD"
      }
    },
    {
      "cell_type": "markdown",
      "source": [
        "\n",
        "<img src='https://d2beiqkhq929f0.cloudfront.net/public_assets/assets/000/043/538/original/Hyperparameter.jpg?1692616046' width=800>\n",
        "\n"
      ],
      "metadata": {
        "id": "yrDvsJ39slGW"
      }
    },
    {
      "cell_type": "markdown",
      "source": [
        "\n",
        "<img src='https://drive.google.com/uc?id=176HX1S9K6b4GqgJL1HNU36RjhFkJUCBF' width=800>\n",
        "\n"
      ],
      "metadata": {
        "id": "wRpHnC2Msw6D"
      }
    },
    {
      "cell_type": "markdown",
      "source": [
        "**Quiz 2:** (Check your understanding)\n",
        "```\n",
        "What would be the optimal value of lambda?\n",
        "Note: adj. R2 score is on test data\n",
        "\n",
        "A. Model M1, lambda=1, adj. R2 score=0.4\n",
        "B. Model M2, lambda=10, adj. R2 score=0.8\n",
        "C. Model M3, lambda=100, adj. R2 score=0.2\n",
        "\n",
        "Ans: B. lambda=10\n",
        "```\n",
        "\n"
      ],
      "metadata": {
        "id": "coQsa1UrtrXo"
      }
    },
    {
      "cell_type": "markdown",
      "source": [
        "<!-- In some cases, we also use performance metric instead of error to find the optimal value (as we did earlier) -->\n",
        "\n",
        "#### What would the plot between $λ$ and $adj. R^2$ score look like?\n"
      ],
      "metadata": {
        "id": "HFkoVL5ilbqZ"
      }
    },
    {
      "cell_type": "markdown",
      "source": [
        "\n",
        "<img src='https://drive.google.com/uc?id=1y-1-LViUZGwGSTOgQiPCCp3fHh4tJu8-' width=800>\n"
      ],
      "metadata": {
        "id": "oGjB64U8nQTp"
      }
    },
    {
      "cell_type": "markdown",
      "source": [
        "Let's use the code to create X and Y as we did in last lecture"
      ],
      "metadata": {
        "id": "rfjmuUg-jvL4"
      }
    },
    {
      "cell_type": "code",
      "source": [
        "import numpy as np\n",
        "import matplotlib.pyplot as plt\n",
        "\n",
        "# lets generate a dataset of 100 points\n",
        "np.random.seed(2)\n",
        "X = np.random.rand(1000,1)\n",
        "y = 0.7*(X**5) - \\\n",
        "    2.1*(X**4) + \\\n",
        "    2.3*(X**3) + \\\n",
        "    0.2*(X**2) + \\\n",
        "    0.3* X + \\\n",
        "    0.4*np.random.rand(1000,1)\n",
        "\n",
        "#0.8, 0.2 split\n",
        "from sklearn.model_selection import train_test_split\n",
        "X_train, X_test, y_train, y_test = train_test_split(X, y, test_size=0.2, random_state=1)"
      ],
      "metadata": {
        "id": "d0ElToyxjvL4"
      },
      "execution_count": null,
      "outputs": []
    },
    {
      "cell_type": "code",
      "source": [
        "from sklearn.preprocessing import PolynomialFeatures\n",
        "from sklearn.preprocessing import StandardScaler\n",
        "from sklearn.linear_model import Ridge\n",
        "from sklearn.pipeline import make_pipeline\n",
        "from sklearn.linear_model import LinearRegression"
      ],
      "metadata": {
        "id": "URl0mtAicIc_"
      },
      "execution_count": null,
      "outputs": []
    },
    {
      "cell_type": "code",
      "source": [
        "def adj_r2(X, y, r2_score):\n",
        "  return 1 - ((1-r2_score)*(len(y)-1))/(len(y)-X.shape[1]-1)"
      ],
      "metadata": {
        "id": "ZRz6NzvZ_zEO"
      },
      "execution_count": null,
      "outputs": []
    },
    {
      "cell_type": "markdown",
      "source": [
        "\n",
        "In the last lecture, we found that the optimal degree would be somewhere around 2,3.\n",
        "\n",
        "But just to see, if regualarisation helps in controlling overfitting, lets take a higher and see how to optimize our regularization rate."
      ],
      "metadata": {
        "id": "PpL8zvPskRVt"
      }
    },
    {
      "cell_type": "code",
      "source": [
        "train_scores = []\n",
        "test_scores = []\n",
        "rate_list = [0.0001, 0.001, 0.01, 0.1, 1, 10]\n",
        "scaler = StandardScaler()\n",
        "for rate in rate_list:\n",
        "  polyreg_scaled = make_pipeline(PolynomialFeatures(10), scaler, Ridge(alpha=rate))\n",
        "  polyreg_scaled.fit(X_train, y_train)\n",
        "  train_score = polyreg_scaled.score(X_train, y_train)\n",
        "  test_score= polyreg_scaled.score(X_test, y_test)\n",
        "  train_scores.append(train_score)\n",
        "  test_scores.append(test_score)"
      ],
      "metadata": {
        "id": "xaDg450Vc8Rx"
      },
      "execution_count": null,
      "outputs": []
    },
    {
      "cell_type": "code",
      "source": [
        "plt.figure(figsize=(5,5))\n",
        "plt.plot(rate_list, train_scores, label=\"train\")\n",
        "plt.plot(rate_list, test_scores, label=\"test\")\n",
        "plt.xlabel(\"lambda\")\n",
        "plt.ylabel(\"R-score\")\n",
        "plt.xscale(\"log\")\n",
        "plt.grid()\n",
        "plt.show()"
      ],
      "metadata": {
        "colab": {
          "base_uri": "https://localhost:8080/",
          "height": 469
        },
        "id": "5CIAE1Zheq-M",
        "outputId": "4fce74f8-ef0c-4988-ee3a-c4c3acc90628"
      },
      "execution_count": null,
      "outputs": [
        {
          "output_type": "display_data",
          "data": {
            "text/plain": [
              "<Figure size 500x500 with 1 Axes>"
            ],
            "image/png": "[encoded data removed]"
          },
          "metadata": {}
        }
      ]
    },
    {
      "cell_type": "code",
      "source": [
        "print(\"Best lambda:\", rate_list[np.argmax(test_scores)])"
      ],
      "metadata": {
        "colab": {
          "base_uri": "https://localhost:8080/"
        },
        "id": "IRwmwm5myuLo",
        "outputId": "b3502c99-6a0e-4291-ce7d-e4e42c8b8c83"
      },
      "execution_count": null,
      "outputs": [
        {
          "output_type": "stream",
          "name": "stdout",
          "text": [
            "Best lambda: 0.1\n"
          ]
        }
      ]
    },
    {
      "cell_type": "markdown",
      "source": [
        "## Cross-Validation"
      ],
      "metadata": {
        "id": "QILUVvYlntIV"
      }
    },
    {
      "cell_type": "markdown",
      "source": [
        "\n",
        "<img src='https://drive.google.com/uc?id=1QU7FoI-pHRy8PbaG6shQjcchqFqhl9bd' width=800>\n",
        "\n",
        "\n"
      ],
      "metadata": {
        "id": "FTDDaHuqZ2PQ"
      }
    },
    {
      "cell_type": "markdown",
      "source": [
        "\n",
        "<img src='https://drive.google.com/uc?id=1zZ0u8qLOx129ul1nCE64jc6uBth9QA5n' width=800>\n"
      ],
      "metadata": {
        "id": "45AKkr2tpy9y"
      }
    },
    {
      "cell_type": "markdown",
      "source": [
        "#### So how do we perform cross validation?"
      ],
      "metadata": {
        "id": "Xa5ZJRIjrUZ9"
      }
    },
    {
      "cell_type": "code",
      "source": [
        "# lets generate a dataset of 100 points\n",
        "np.random.seed(2)\n",
        "X = np.random.rand(1000,1)\n",
        "y = 0.7*(X**5) - \\\n",
        "    2.1*(X**4) + \\\n",
        "    2.3*(X**3) + \\\n",
        "    0.2*(X**2) + \\\n",
        "    0.3* X + \\\n",
        "    0.4*np.random.rand(1000,1)\n"
      ],
      "metadata": {
        "id": "_g9CnmZqnm1-"
      },
      "execution_count": null,
      "outputs": []
    },
    {
      "cell_type": "markdown",
      "source": [
        "Now we divide our data into train, test and validation"
      ],
      "metadata": {
        "id": "hu1HqFHnC5Q3"
      }
    },
    {
      "cell_type": "code",
      "source": [
        "#0.6, 0.2, 0.2 split\n",
        "from sklearn.model_selection import train_test_split\n",
        "X_tr_cv, X_test, y_tr_cv, y_test = train_test_split(X, y, test_size=0.2, random_state=1)\n",
        "X_train, X_val, y_train, y_val = train_test_split(X_tr_cv, y_tr_cv, test_size=0.25,random_state=1)"
      ],
      "metadata": {
        "id": "R-nZTEtKC55o"
      },
      "execution_count": null,
      "outputs": []
    },
    {
      "cell_type": "code",
      "source": [
        "X_train.shape, X_val.shape, X_test.shape"
      ],
      "metadata": {
        "colab": {
          "base_uri": "https://localhost:8080/"
        },
        "id": "PvQN5v7wDxug",
        "outputId": "7e67a217-95c4-4c4f-aff3-a703c88dcf01"
      },
      "execution_count": null,
      "outputs": [
        {
          "output_type": "execute_result",
          "data": {
            "text/plain": [
              "((600, 1), (200, 1), (200, 1))"
            ]
          },
          "metadata": {},
          "execution_count": 27
        }
      ]
    },
    {
      "cell_type": "markdown",
      "source": [
        "Let's visualize our data"
      ],
      "metadata": {
        "id": "XUNhJarf_Xsn"
      }
    },
    {
      "cell_type": "code",
      "source": [
        "plt.figure(figsize=(18,5))\n",
        "data_labels = [\"Training Data\", \"Validation Data\", \"Test Data\" ]\n",
        "x_labels = [X_train, X_val, X_test]\n",
        "y_labels = [y_train, y_val, y_test]\n",
        "for i in range(3):\n",
        "  plt.subplot(1, 3, i+1)\n",
        "  plt.scatter(x_labels[i], y_labels[i])\n",
        "  plt.xlabel(\"x\")\n",
        "  plt.ylabel(\"y\")\n",
        "  plt.title(data_labels[i])"
      ],
      "metadata": {
        "colab": {
          "base_uri": "https://localhost:8080/",
          "height": 487
        },
        "id": "HIhTH7yz_ZbN",
        "outputId": "1b43effd-ef76-4b36-f2b1-fd44a400138e"
      },
      "execution_count": null,
      "outputs": [
        {
          "output_type": "display_data",
          "data": {
            "text/plain": [
              "<Figure size 1800x500 with 3 Axes>"
            ],
            "image/png": "[encoded data removed]"
          },
          "metadata": {}
        }
      ]
    },
    {
      "cell_type": "markdown",
      "source": [
        "The statistics of our type of data is similar, so we are good to go."
      ],
      "metadata": {
        "id": "qMvxos6z7Ra6"
      }
    },
    {
      "cell_type": "markdown",
      "source": [
        "#### Steps to do cross-validation on our data\n",
        "\n"
      ],
      "metadata": {
        "id": "KMx20eiYqPUt"
      }
    },
    {
      "cell_type": "markdown",
      "source": [
        "Now if you remember, in the last lecture we saw how the performance was increasing with increase in degree of the polynomial model\n",
        "\n",
        "But how do we find the optimal degree in this case?\n",
        "\n",
        "Let's"
      ],
      "metadata": {
        "id": "zTb5G4KMW3bW"
      }
    },
    {
      "cell_type": "markdown",
      "source": [
        "Let's try to find the optimal value of `degree` for our polynomial regression model"
      ],
      "metadata": {
        "id": "Ime0l_99W1EG"
      }
    },
    {
      "cell_type": "markdown",
      "source": [
        "1. First we take degrees from 1 to 25, and train the model on data for each of these degrees to find the best degree"
      ],
      "metadata": {
        "id": "6KGZm8tQDTxo"
      }
    },
    {
      "cell_type": "code",
      "source": [
        "# Same as we did earlier and in the last lecture\n",
        "max_degree = 25 # max polynomial degree\n",
        "train_scores = []\n",
        "val_scores = []\n",
        "scaler = StandardScaler()\n",
        "for degree in range(1, max_degree):\n",
        "  polyreg_scaled = make_pipeline(PolynomialFeatures(degree), scaler, Ridge())\n",
        "  polyreg_scaled.fit(X_train, y_train)\n",
        "  train_score = adj_r2(X_train, y_train, polyreg_scaled.score(X_train, y_train))\n",
        "  val_score= adj_r2(X_val, y_val, polyreg_scaled.score(X_val, y_val))\n",
        "  train_scores.append(train_score)\n",
        "  val_scores.append(val_score)\n",
        "plt.figure()\n",
        "plt.plot(list(range(1, 25)), train_scores, label=\"train\")\n",
        "plt.plot(list(range(1, 25)), val_scores, label=\"val\")\n",
        "plt.legend(loc='lower right')\n",
        "plt.xlabel(\"degree\")\n",
        "plt.ylabel(\"adj. R-score\")\n",
        "plt.grid()\n",
        "plt.show()"
      ],
      "metadata": {
        "id": "KHuRfcbZEgIB",
        "colab": {
          "base_uri": "https://localhost:8080/",
          "height": 449
        },
        "outputId": "94695fab-8ea8-41c1-9230-ab0748ac62ae"
      },
      "execution_count": null,
      "outputs": [
        {
          "output_type": "display_data",
          "data": {
            "text/plain": [
              "<Figure size 640x480 with 1 Axes>"
            ],
            "image/png": "[encoded data removed]"
          },
          "metadata": {}
        }
      ]
    },
    {
      "cell_type": "markdown",
      "source": [
        "Taking degree=3, we now find the best regularization rate by the same process"
      ],
      "metadata": {
        "id": "g4Tvpu_hmvwd"
      }
    },
    {
      "cell_type": "code",
      "source": [
        "train_scores = []\n",
        "val_scores = []\n",
        "rate_list = [0.01, 0.1, 1,5, 10]\n",
        "for rate in rate_list:\n",
        "  polyreg_scaled = make_pipeline(PolynomialFeatures(3), scaler, Ridge(alpha=rate))\n",
        "  polyreg_scaled.fit(X_train, y_train)\n",
        "  train_score = adj_r2(X_train, y_train, polyreg_scaled.score(X_train, y_train))\n",
        "  val_score= adj_r2(X_val, y_val, polyreg_scaled.score(X_val, y_val))\n",
        "  train_scores.append(train_score)\n",
        "  val_scores.append(val_score)"
      ],
      "metadata": {
        "id": "M3B44v1JnE-G"
      },
      "execution_count": null,
      "outputs": []
    },
    {
      "cell_type": "code",
      "source": [
        "plt.figure()\n",
        "plt.plot(rate_list, train_scores, label=\"train\")\n",
        "plt.plot(rate_list, val_scores, label=\"val\")\n",
        "plt.legend(loc='lower right')\n",
        "plt.xlabel(\"lambda\")\n",
        "plt.ylabel(\"adj. R-score\")\n",
        "plt.grid()\n",
        "plt.show()"
      ],
      "metadata": {
        "colab": {
          "base_uri": "https://localhost:8080/",
          "height": 449
        },
        "outputId": "da0ac04e-b1ce-41df-d7e5-7956d836f873",
        "id": "kvN1IWydnE-G"
      },
      "execution_count": null,
      "outputs": [
        {
          "output_type": "display_data",
          "data": {
            "text/plain": [
              "<Figure size 640x480 with 1 Axes>"
            ],
            "image/png": "[encoded data removed]"
          },
          "metadata": {}
        }
      ]
    },
    {
      "cell_type": "markdown",
      "source": [
        "We take the optimal value of lambda as 0.01"
      ],
      "metadata": {
        "id": "ZmZX4huQF4Eg"
      }
    },
    {
      "cell_type": "markdown",
      "source": [
        "2. Now finally, we measure our model's performance on test data, which our model hasn't seen till now"
      ],
      "metadata": {
        "id": "ZIPEVxjhGKqC"
      }
    },
    {
      "cell_type": "code",
      "source": [
        "polyreg_scaled = make_pipeline(PolynomialFeatures(3), scaler, Ridge(alpha=0.01))\n",
        "polyreg_scaled.fit(X_train, y_train)\n",
        "train_score = adj_r2(X_train, y_train, polyreg_scaled.score(X_train, y_train))\n",
        "print(f'Training Score = {train_score}')\n",
        "val_score = adj_r2(X_val, y_val, polyreg_scaled.score(X_val, y_val))\n",
        "print(f'Validation Score = {val_score}')"
      ],
      "metadata": {
        "colab": {
          "base_uri": "https://localhost:8080/"
        },
        "id": "w1svueDEF2_R",
        "outputId": "68c84436-8c47-41d6-f5f8-cf02b4037660"
      },
      "execution_count": null,
      "outputs": [
        {
          "output_type": "stream",
          "name": "stdout",
          "text": [
            "Training Score = 0.9261212571628987\n",
            "Validation Score = 0.9191482611247953\n"
          ]
        }
      ]
    },
    {
      "cell_type": "code",
      "source": [
        "# Reporting this as the final score\n",
        "test_score = adj_r2(X_test, y_test, polyreg_scaled.score(X_test, y_test))\n",
        "print(f'Testing Score = {test_score}')"
      ],
      "metadata": {
        "colab": {
          "base_uri": "https://localhost:8080/"
        },
        "id": "VQTLT84YHJdB",
        "outputId": "12b7859c-0e8d-4c86-9639-ed89ca473c3e"
      },
      "execution_count": null,
      "outputs": [
        {
          "output_type": "stream",
          "name": "stdout",
          "text": [
            "Testing Score = 0.9143625261065258\n"
          ]
        }
      ]
    },
    {
      "cell_type": "markdown",
      "source": [
        "Observe, the test results are lower than training and validation.\n",
        "\n",
        "This is because, our model hasn't seen the test data at all, and this can be said as the true result of our model."
      ],
      "metadata": {
        "id": "_xE7qIcso0b3"
      }
    },
    {
      "cell_type": "markdown",
      "source": [
        "#### Try for yourself\n",
        "\n",
        "- Try to use Linear Regression, Lasso and ElasticNet and see how do the results vary?"
      ],
      "metadata": {
        "id": "y9t-1s1zHW0W"
      }
    },
    {
      "cell_type": "markdown",
      "source": [
        "**Quiz 3** (Check your understanding)\n",
        "```\n",
        "A company is building a predictive model for predicting customer churn. Which technique can help optimize the model's performance for selecting the best hyperparameters and evaluating its generalization ability?\n",
        "A) Sampling\n",
        "B) Feature selection.\n",
        "C) Ensemble learning.\n",
        "D) Hyperparameter tuning using Cross-validation.\n",
        "\n",
        "Correct Answer: D) Hyperparameter tuning using Cross-validation.\n",
        "\n",
        "Explanation: Cross-validation helps evaluate the model's generalization ability by splitting the data into train, val and test. This helps in keeping test as unseen data.\n",
        "```"
      ],
      "metadata": {
        "id": "l9a8kh1iNheG"
      }
    },
    {
      "cell_type": "markdown",
      "source": [
        "But there is one issue with cross validation when there are less number of data points"
      ],
      "metadata": {
        "id": "gjc99NyLHvcK"
      }
    },
    {
      "cell_type": "markdown",
      "source": [
        "## K-Fold Cross Validation"
      ],
      "metadata": {
        "id": "rMUEy_TMIBmi"
      }
    },
    {
      "cell_type": "markdown",
      "source": [
        "\n",
        "<img src='https://drive.google.com/uc?id=19GxB4Rehf3PffX2XYGsQaza1numS6FEv' width=800>"
      ],
      "metadata": {
        "id": "FmHX0RSMuqyh"
      }
    },
    {
      "cell_type": "markdown",
      "source": [
        "#### How do we validate our data in case of lesser number of data points?"
      ],
      "metadata": {
        "id": "d4vkwZLYPRTZ"
      }
    },
    {
      "cell_type": "markdown",
      "source": [
        "We use **K-Fold Cross Validation**"
      ],
      "metadata": {
        "id": "239HPHAUPWkb"
      }
    },
    {
      "cell_type": "markdown",
      "source": [
        "This is useful only for small datasets"
      ],
      "metadata": {
        "id": "krv8YeJ2Pcpi"
      }
    },
    {
      "cell_type": "markdown",
      "source": [
        "#### What is k-fold cross validation?\n"
      ],
      "metadata": {
        "id": "nnyrB0wwPr6u"
      }
    },
    {
      "cell_type": "markdown",
      "source": [
        "\n",
        "<img src='https://drive.google.com/uc?id=1dkxPt6DY0U4T-AwFREYkBHQaA1EVqScP' width=800>\n"
      ],
      "metadata": {
        "id": "zHtYGZFhvIIV"
      }
    },
    {
      "cell_type": "markdown",
      "source": [
        "#### How to implement K-Fold Cross validation?"
      ],
      "metadata": {
        "id": "Ybj8JrbxSoUA"
      }
    },
    {
      "cell_type": "markdown",
      "source": [
        "\n",
        "<img src='https://drive.google.com/uc?id=1J4IerGUseEHGqonulMJ2QYQfOLmfb8-T' width=800>"
      ],
      "metadata": {
        "id": "sjq4hGmfOywr"
      }
    },
    {
      "cell_type": "markdown",
      "source": [
        "**Quiz 4** (Check your understanding)\n",
        "```\n",
        "How do we compute performance metric of a model computed in k-fold cross-validation?\n",
        "A) Taking the mean of metric obtained from each fold.\n",
        "B) Selecting the max value of metric obtained from each folds.\n",
        "C) Summing the performance metrics of each fold.\n",
        "D) Calculating the median of k different performance metrics.\n",
        "\n",
        "Correct Answer: A) Taking the mean of metric obtained from each fold.\n",
        "\n",
        "```"
      ],
      "metadata": {
        "id": "nx3TIFIrOELc"
      }
    },
    {
      "cell_type": "markdown",
      "source": [
        "Let's look at the implementation."
      ],
      "metadata": {
        "id": "5J5SbY8pQvOL"
      }
    },
    {
      "cell_type": "code",
      "source": [
        "# Creating a small dataset of 100 data points\n",
        "np.random.seed(2)\n",
        "X = np.random.rand(100,1)\n",
        "y = 0.7*(X**5) - \\\n",
        "    2.1*(X**4) + \\\n",
        "    2.3*(X**3) + \\\n",
        "    0.2*(X**2) + \\\n",
        "    0.3* X + \\\n",
        "    0.4*np.random.rand(100,1)"
      ],
      "metadata": {
        "id": "kaP9URYzRIfw"
      },
      "execution_count": null,
      "outputs": []
    },
    {
      "cell_type": "code",
      "source": [
        "from sklearn.model_selection import KFold\n",
        "kf = KFold(n_splits=10)"
      ],
      "metadata": {
        "id": "pB9xOCM_HQ7_"
      },
      "execution_count": null,
      "outputs": []
    },
    {
      "cell_type": "code",
      "source": [
        "# Performing k-fold cross validation\n",
        "degrees = 15 # number of degrees\n",
        "train_scores = []\n",
        "val_scores = []\n",
        "\n",
        "for degree in range(1, degrees):\n",
        "    fold_train_scores = []\n",
        "    fold_val_scores = []\n",
        "\n",
        "    for train_index, val_index in kf.split(X): #iterating through the K-folds\n",
        "\n",
        "        X_train, X_val = X[train_index], X[val_index]\n",
        "        y_train, y_val = y[train_index], y[val_index]\n",
        "\n",
        "        polyreg_scaled = make_pipeline(PolynomialFeatures(degree), scaler, LinearRegression())\n",
        "        polyreg_scaled.fit(X_train, y_train) #training model\n",
        "\n",
        "        train_score = adj_r2(X_train, y_train, polyreg_scaled.score(X_train, y_train))\n",
        "        val_score= adj_r2(X_val, y_val, polyreg_scaled.score(X_val, y_val))\n",
        "\n",
        "        fold_train_scores.append(train_score)\n",
        "        fold_val_scores.append(val_score)\n",
        "\n",
        "    train_score = np.mean(fold_train_scores)\n",
        "    val_score = np.mean(fold_val_scores)\n",
        "\n",
        "    train_scores.append(train_score)\n",
        "    val_scores.append(val_score)"
      ],
      "metadata": {
        "id": "UO7n1IAIQ3bi"
      },
      "execution_count": null,
      "outputs": []
    },
    {
      "cell_type": "code",
      "source": [
        "plt.figure()\n",
        "plt.plot(list(range(1, 15)), train_scores, label=\"train\")\n",
        "plt.plot(list(range(1, 15)), val_scores, label=\"val\")\n",
        "plt.legend(loc='lower right')\n",
        "plt.xlabel(\"degree\")\n",
        "plt.ylabel(\"Average R2 score\")\n",
        "plt.show()"
      ],
      "metadata": {
        "colab": {
          "base_uri": "https://localhost:8080/",
          "height": 449
        },
        "id": "1Uv-TLbIQ-O9",
        "outputId": "0153d8fd-a560-4b5f-d3ff-922db669caf7"
      },
      "execution_count": null,
      "outputs": [
        {
          "output_type": "display_data",
          "data": {
            "text/plain": [
              "<Figure size 640x480 with 1 Axes>"
            ],
            "image/png": "[encoded data removed]"
          },
          "metadata": {}
        }
      ]
    },
    {
      "cell_type": "markdown",
      "source": [
        "**Quiz 5**: (Check your understanding)\n",
        "```\n",
        "What could be the disadvantage of using large number of folds in k-fold cross validation?\n",
        "A) It increases the risk of overfitting the model.\n",
        "B) It requires more computational resources and time.\n",
        "C) It results in a higher bias in the model's performance estimation.\n",
        "D) It leads to a higher variance in the model's performance estimation.\n",
        "\n",
        "Correct Answer: B) It requires more computational resources and time.\n",
        "```"
      ],
      "metadata": {
        "id": "6Wd48gegoHq5"
      }
    },
    {
      "cell_type": "markdown",
      "source": [
        "Note:\n",
        "\n",
        "- K-Fold Cross Validation can be computationally expensive\n",
        "- Hence it's only used for Small datasets\n",
        "- For large datasets, we have enough datapoints to train the model, hence only cross validation is sufficient"
      ],
      "metadata": {
        "id": "eUtfg017SLx0"
      }
    },
    {
      "cell_type": "markdown",
      "source": [
        "----"
      ],
      "metadata": {
        "id": "sLFnXLb3vdQM"
      }
    }
  ],
  "metadata": {
    "colab": {
      "provenance": [],
      "include_colab_link": true
    },
    "kernelspec": {
      "display_name": "Python 3",
      "name": "python3"
    },
    "language_info": {
      "name": "python"
    }
  },
  "nbformat": 4,
  "nbformat_minor": 0
}